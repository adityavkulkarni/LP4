{
 "cells": [
  {
   "cell_type": "markdown",
   "metadata": {},
   "source": [
    "<img src=\"https://i0.wp.com/today.caricom.org/wp-content/uploads/covid19_2000x1333-image.jpg?fit=960%2C640&ssl=1\"></img>"
   ]
  },
  {
   "cell_type": "markdown",
   "metadata": {},
   "source": [
    "# What is Corona Virus :"
   ]
  },
  {
   "cell_type": "markdown",
   "metadata": {},
   "source": [
    "**Coronavirus is a family of viruses that can cause illness, which can vary from common cold and cough to sometimes more severe disease. SARS-CoV-2 (n-coronavirus) is the new virus of the coronavirus family, which first discovered in 2019, which has not been identified in humans before. It is a contiguous virus which started from Wuhan in December 2019. Which later declared as Pandemic by WHO due to high rate spreads throughout the world. Currently (on date 27 March 2020), this leads to a total of 24K+ Deaths across the globe, including 16K+ deaths alone in Europe.Pandemic is spreading all over the world; it becomes more important to understand about this spread. This NoteBook is an effort to analyze the cumulative data of confirmed, deaths, and recovered cases over time. In this notebook, the main focus is to analyze the spread trend of this virus all over the india.**"
   ]
  },
  {
   "cell_type": "markdown",
   "metadata": {},
   "source": [
    "# History of Covid 19 :  "
   ]
  },
  {
   "cell_type": "markdown",
   "metadata": {},
   "source": [
    "**On January 30, India reported its first case of COVID-19 in Kerala, which rose to three cases by February 3; all were students who had returned from Wuhan, China.No significant rise in cases was seen in the rest of February.**\n",
    "\n",
    "**On 22 March 2020, India observed a 14-hour voluntary public curfew at the instance of the prime minister Narendra Modi.The government followed it up with lockdowns in 75 districts where COVID cases had occurred as well as all major cities.Further, on 24 March, the prime minister ordered a nationwide lockdown for 21 days, affecting the entire 1.3 billion population of India.**\n",
    "\n",
    "**The transmission escalated during March, after several cases were reported all over the country, most of which were linked to people with a travel history to affected countries. On 12 March, a 76-year-old man who had returned from Saudi Arabia became the first victim of the virus in the country.On 4 March, 22 new cases came to light, including those of an Italian tourist group with 14 infected members.But number of cases start increasing dramtically after 19th March, but in the month of April it has been its peak.**\n",
    "\n",
    "**Experts suggest the number of infections could be much higher as India's testing rates are among the lowest in the world.The infection rate of COVID-19 in India is reported to be 1.7, significantly lower than in the worst affected countries.**"
   ]
  },
  {
   "cell_type": "markdown",
   "metadata": {},
   "source": [
    "<img src=\"https://i.imgur.com/HdKy1CA.png\" ></img>"
   ]
  },
  {
   "cell_type": "markdown",
   "metadata": {},
   "source": [
    "<img src=\"https://pbs.twimg.com/media/EVUWy8vUMAUoHEh?format=png&name=small\"></img>"
   ]
  },
  {
   "cell_type": "markdown",
   "metadata": {},
   "source": [
    "<img src=\"https://images.assettype.com/bloombergquint%2F2020-03%2F71e05b2a-15cc-4930-83b9-be22357e2093%2FHealthcare_Is_Less_Abundant_In_India_Compared_To_Global_Average.png?auto=format&q=35&w=1200&h=979\"></img>"
   ]
  },
  {
   "cell_type": "markdown",
   "metadata": {},
   "source": [
    "# References :"
   ]
  },
  {
   "cell_type": "markdown",
   "metadata": {},
   "source": [
    "**1.https://www.kaggle.com/nitishabharathi/the-story-of-covid-19-in-india-eda-and-prediction <br>\n",
    "  2.https://www.kaggle.com/imdevskp/covid-19-in-india**"
   ]
  },
  {
   "cell_type": "markdown",
   "metadata": {},
   "source": [
    "<h1 style = \"font-family: Comic Sans MS;background-color:##ff61b0\"> INDEX </h1>\n",
    "\n",
    " 1. [ANDHRA PRADESH](#sec1) <br> \n",
    " 2. [ARUNACHAL PRADESH](#sec2) <br> \n",
    " 3. [ASSAM](#sec3) <br> \n",
    " 4. [BIHAR](#sec4) <br> \n",
    " 5. [Chandigarh](#sec5) <br> \n",
    " 6. [Chhattisgarh](#sec6) <br> \n",
    " 7. [Delhi](#sec7) <br> \n",
    " 8. [GOA](#sec8) <br> \n",
    " 9. [GUJARAT](#sec9) <br> \n",
    " 10. [HARYANA](#sec10) <br>  \n",
    " 11. [Himachal Pradesh](#sec11) <br>  \n",
    " 12. [Jammu and Kashmir](#sec12) <br>  \n",
    " 13. [Jharkhand](#sec13) <br>  \n",
    " 14. [Karnataka](#sec14) <br>  \n",
    " 15. [KERALA](#sec15) <br> \n",
    " 16. [Madhya Pradesh](#sec16) <br> \n",
    " 17. [Maharashtra](#sec17) <br> \n",
    " 18. [Manipur](#sec18) <br> \n",
    " 19. [Meghalaya](#sec19) <br> \n",
    " 20. [Mizoram](#sec20) <br> \n",
    " 21. [Nagaland](#sec21) <br> \n",
    " 22. [Odisha](#sec22) <br> \n",
    " 23. [Punjab](#sec23) <br> \n",
    " 24. [RAJASTHAN](#sec24) <br> \n",
    " 25. [Sikkim](#sec25) <br> \n",
    " 26. [Tamil Nadu](#sec26) <br> \n",
    " 27. [Telangana](#sec27) <br> \n",
    " 28. [Tripura](#sec28) <br>\n",
    " 29. [Uttar Pradesh](#sec29) <br>\n",
    " 30. [Uttarakhand](#sec30) <br> \n",
    " 31. [West Bengal](#sec31) <br>"
   ]
  },
  {
   "cell_type": "markdown",
   "metadata": {},
   "source": [
    "# Libraries :"
   ]
  },
  {
   "cell_type": "code",
   "execution_count": 1,
   "metadata": {},
   "outputs": [],
   "source": [
    "import pandas as pd  \n",
    "import plotly.express as px\n",
    "from colorama import Fore \n",
    "import plotly.figure_factory as ff\n",
    "from matplotlib import pyplot as plt \n",
    "#import geopandas as gpd\n",
    "r = Fore.RED\n",
    "g = Fore.GREEN\n",
    "y = Fore.YELLOW\n",
    "b = Fore.BLUE\n",
    "m = Fore.MAGENTA\n",
    "c = Fore.CYAN"
   ]
  },
  {
   "cell_type": "code",
   "execution_count": 2,
   "metadata": {},
   "outputs": [
    {
     "ename": "FileNotFoundError",
     "evalue": "[Errno 2] No such file or directory: '../input/covid19-in-india/covid_19_india.csv'",
     "output_type": "error",
     "traceback": [
      "\u001b[0;31m---------------------------------------------------------------------------\u001b[0m",
      "\u001b[0;31mFileNotFoundError\u001b[0m                         Traceback (most recent call last)",
      "\u001b[0;32m<ipython-input-2-1601c33f1421>\u001b[0m in \u001b[0;36m<module>\u001b[0;34m\u001b[0m\n\u001b[0;32m----> 1\u001b[0;31m \u001b[0mcovid_india\u001b[0m \u001b[0;34m=\u001b[0m \u001b[0mpd\u001b[0m\u001b[0;34m.\u001b[0m\u001b[0mread_csv\u001b[0m\u001b[0;34m(\u001b[0m\u001b[0;34mr\"../input/covid19-in-india/covid_19_india.csv\"\u001b[0m\u001b[0;34m)\u001b[0m\u001b[0;34m\u001b[0m\u001b[0;34m\u001b[0m\u001b[0m\n\u001b[0m\u001b[1;32m      2\u001b[0m \u001b[0mdf\u001b[0m \u001b[0;34m=\u001b[0m \u001b[0mpd\u001b[0m\u001b[0;34m.\u001b[0m\u001b[0mread_csv\u001b[0m\u001b[0;34m(\u001b[0m\u001b[0;34mr\"../input/covid19-in-india/covid_vaccine_statewise.csv\"\u001b[0m\u001b[0;34m)\u001b[0m\u001b[0;34m\u001b[0m\u001b[0;34m\u001b[0m\u001b[0m\n\u001b[1;32m      3\u001b[0m \u001b[0mdf\u001b[0m\u001b[0;34m.\u001b[0m\u001b[0mhead\u001b[0m\u001b[0;34m(\u001b[0m\u001b[0;34m)\u001b[0m\u001b[0;34m\u001b[0m\u001b[0;34m\u001b[0m\u001b[0m\n",
      "\u001b[0;32m~/.local/lib/python3.8/site-packages/pandas/io/parsers.py\u001b[0m in \u001b[0;36mread_csv\u001b[0;34m(filepath_or_buffer, sep, delimiter, header, names, index_col, usecols, squeeze, prefix, mangle_dupe_cols, dtype, engine, converters, true_values, false_values, skipinitialspace, skiprows, skipfooter, nrows, na_values, keep_default_na, na_filter, verbose, skip_blank_lines, parse_dates, infer_datetime_format, keep_date_col, date_parser, dayfirst, cache_dates, iterator, chunksize, compression, thousands, decimal, lineterminator, quotechar, quoting, doublequote, escapechar, comment, encoding, dialect, error_bad_lines, warn_bad_lines, delim_whitespace, low_memory, memory_map, float_precision, storage_options)\u001b[0m\n\u001b[1;32m    603\u001b[0m     \u001b[0mkwds\u001b[0m\u001b[0;34m.\u001b[0m\u001b[0mupdate\u001b[0m\u001b[0;34m(\u001b[0m\u001b[0mkwds_defaults\u001b[0m\u001b[0;34m)\u001b[0m\u001b[0;34m\u001b[0m\u001b[0;34m\u001b[0m\u001b[0m\n\u001b[1;32m    604\u001b[0m \u001b[0;34m\u001b[0m\u001b[0m\n\u001b[0;32m--> 605\u001b[0;31m     \u001b[0;32mreturn\u001b[0m \u001b[0m_read\u001b[0m\u001b[0;34m(\u001b[0m\u001b[0mfilepath_or_buffer\u001b[0m\u001b[0;34m,\u001b[0m \u001b[0mkwds\u001b[0m\u001b[0;34m)\u001b[0m\u001b[0;34m\u001b[0m\u001b[0;34m\u001b[0m\u001b[0m\n\u001b[0m\u001b[1;32m    606\u001b[0m \u001b[0;34m\u001b[0m\u001b[0m\n\u001b[1;32m    607\u001b[0m \u001b[0;34m\u001b[0m\u001b[0m\n",
      "\u001b[0;32m~/.local/lib/python3.8/site-packages/pandas/io/parsers.py\u001b[0m in \u001b[0;36m_read\u001b[0;34m(filepath_or_buffer, kwds)\u001b[0m\n\u001b[1;32m    455\u001b[0m \u001b[0;34m\u001b[0m\u001b[0m\n\u001b[1;32m    456\u001b[0m     \u001b[0;31m# Create the parser.\u001b[0m\u001b[0;34m\u001b[0m\u001b[0;34m\u001b[0m\u001b[0;34m\u001b[0m\u001b[0m\n\u001b[0;32m--> 457\u001b[0;31m     \u001b[0mparser\u001b[0m \u001b[0;34m=\u001b[0m \u001b[0mTextFileReader\u001b[0m\u001b[0;34m(\u001b[0m\u001b[0mfilepath_or_buffer\u001b[0m\u001b[0;34m,\u001b[0m \u001b[0;34m**\u001b[0m\u001b[0mkwds\u001b[0m\u001b[0;34m)\u001b[0m\u001b[0;34m\u001b[0m\u001b[0;34m\u001b[0m\u001b[0m\n\u001b[0m\u001b[1;32m    458\u001b[0m \u001b[0;34m\u001b[0m\u001b[0m\n\u001b[1;32m    459\u001b[0m     \u001b[0;32mif\u001b[0m \u001b[0mchunksize\u001b[0m \u001b[0;32mor\u001b[0m \u001b[0miterator\u001b[0m\u001b[0;34m:\u001b[0m\u001b[0;34m\u001b[0m\u001b[0;34m\u001b[0m\u001b[0m\n",
      "\u001b[0;32m~/.local/lib/python3.8/site-packages/pandas/io/parsers.py\u001b[0m in \u001b[0;36m__init__\u001b[0;34m(self, f, engine, **kwds)\u001b[0m\n\u001b[1;32m    812\u001b[0m             \u001b[0mself\u001b[0m\u001b[0;34m.\u001b[0m\u001b[0moptions\u001b[0m\u001b[0;34m[\u001b[0m\u001b[0;34m\"has_index_names\"\u001b[0m\u001b[0;34m]\u001b[0m \u001b[0;34m=\u001b[0m \u001b[0mkwds\u001b[0m\u001b[0;34m[\u001b[0m\u001b[0;34m\"has_index_names\"\u001b[0m\u001b[0;34m]\u001b[0m\u001b[0;34m\u001b[0m\u001b[0;34m\u001b[0m\u001b[0m\n\u001b[1;32m    813\u001b[0m \u001b[0;34m\u001b[0m\u001b[0m\n\u001b[0;32m--> 814\u001b[0;31m         \u001b[0mself\u001b[0m\u001b[0;34m.\u001b[0m\u001b[0m_engine\u001b[0m \u001b[0;34m=\u001b[0m \u001b[0mself\u001b[0m\u001b[0;34m.\u001b[0m\u001b[0m_make_engine\u001b[0m\u001b[0;34m(\u001b[0m\u001b[0mself\u001b[0m\u001b[0;34m.\u001b[0m\u001b[0mengine\u001b[0m\u001b[0;34m)\u001b[0m\u001b[0;34m\u001b[0m\u001b[0;34m\u001b[0m\u001b[0m\n\u001b[0m\u001b[1;32m    815\u001b[0m \u001b[0;34m\u001b[0m\u001b[0m\n\u001b[1;32m    816\u001b[0m     \u001b[0;32mdef\u001b[0m \u001b[0mclose\u001b[0m\u001b[0;34m(\u001b[0m\u001b[0mself\u001b[0m\u001b[0;34m)\u001b[0m\u001b[0;34m:\u001b[0m\u001b[0;34m\u001b[0m\u001b[0;34m\u001b[0m\u001b[0m\n",
      "\u001b[0;32m~/.local/lib/python3.8/site-packages/pandas/io/parsers.py\u001b[0m in \u001b[0;36m_make_engine\u001b[0;34m(self, engine)\u001b[0m\n\u001b[1;32m   1043\u001b[0m             )\n\u001b[1;32m   1044\u001b[0m         \u001b[0;31m# error: Too many arguments for \"ParserBase\"\u001b[0m\u001b[0;34m\u001b[0m\u001b[0;34m\u001b[0m\u001b[0;34m\u001b[0m\u001b[0m\n\u001b[0;32m-> 1045\u001b[0;31m         \u001b[0;32mreturn\u001b[0m \u001b[0mmapping\u001b[0m\u001b[0;34m[\u001b[0m\u001b[0mengine\u001b[0m\u001b[0;34m]\u001b[0m\u001b[0;34m(\u001b[0m\u001b[0mself\u001b[0m\u001b[0;34m.\u001b[0m\u001b[0mf\u001b[0m\u001b[0;34m,\u001b[0m \u001b[0;34m**\u001b[0m\u001b[0mself\u001b[0m\u001b[0;34m.\u001b[0m\u001b[0moptions\u001b[0m\u001b[0;34m)\u001b[0m  \u001b[0;31m# type: ignore[call-arg]\u001b[0m\u001b[0;34m\u001b[0m\u001b[0;34m\u001b[0m\u001b[0m\n\u001b[0m\u001b[1;32m   1046\u001b[0m \u001b[0;34m\u001b[0m\u001b[0m\n\u001b[1;32m   1047\u001b[0m     \u001b[0;32mdef\u001b[0m \u001b[0m_failover_to_python\u001b[0m\u001b[0;34m(\u001b[0m\u001b[0mself\u001b[0m\u001b[0;34m)\u001b[0m\u001b[0;34m:\u001b[0m\u001b[0;34m\u001b[0m\u001b[0;34m\u001b[0m\u001b[0m\n",
      "\u001b[0;32m~/.local/lib/python3.8/site-packages/pandas/io/parsers.py\u001b[0m in \u001b[0;36m__init__\u001b[0;34m(self, src, **kwds)\u001b[0m\n\u001b[1;32m   1860\u001b[0m \u001b[0;34m\u001b[0m\u001b[0m\n\u001b[1;32m   1861\u001b[0m         \u001b[0;31m# open handles\u001b[0m\u001b[0;34m\u001b[0m\u001b[0;34m\u001b[0m\u001b[0;34m\u001b[0m\u001b[0m\n\u001b[0;32m-> 1862\u001b[0;31m         \u001b[0mself\u001b[0m\u001b[0;34m.\u001b[0m\u001b[0m_open_handles\u001b[0m\u001b[0;34m(\u001b[0m\u001b[0msrc\u001b[0m\u001b[0;34m,\u001b[0m \u001b[0mkwds\u001b[0m\u001b[0;34m)\u001b[0m\u001b[0;34m\u001b[0m\u001b[0;34m\u001b[0m\u001b[0m\n\u001b[0m\u001b[1;32m   1863\u001b[0m         \u001b[0;32massert\u001b[0m \u001b[0mself\u001b[0m\u001b[0;34m.\u001b[0m\u001b[0mhandles\u001b[0m \u001b[0;32mis\u001b[0m \u001b[0;32mnot\u001b[0m \u001b[0;32mNone\u001b[0m\u001b[0;34m\u001b[0m\u001b[0;34m\u001b[0m\u001b[0m\n\u001b[1;32m   1864\u001b[0m         \u001b[0;32mfor\u001b[0m \u001b[0mkey\u001b[0m \u001b[0;32min\u001b[0m \u001b[0;34m(\u001b[0m\u001b[0;34m\"storage_options\"\u001b[0m\u001b[0;34m,\u001b[0m \u001b[0;34m\"encoding\"\u001b[0m\u001b[0;34m,\u001b[0m \u001b[0;34m\"memory_map\"\u001b[0m\u001b[0;34m,\u001b[0m \u001b[0;34m\"compression\"\u001b[0m\u001b[0;34m)\u001b[0m\u001b[0;34m:\u001b[0m\u001b[0;34m\u001b[0m\u001b[0;34m\u001b[0m\u001b[0m\n",
      "\u001b[0;32m~/.local/lib/python3.8/site-packages/pandas/io/parsers.py\u001b[0m in \u001b[0;36m_open_handles\u001b[0;34m(self, src, kwds)\u001b[0m\n\u001b[1;32m   1355\u001b[0m         \u001b[0mLet\u001b[0m \u001b[0mthe\u001b[0m \u001b[0mreaders\u001b[0m \u001b[0mopen\u001b[0m \u001b[0mIOHanldes\u001b[0m \u001b[0mafter\u001b[0m \u001b[0mthey\u001b[0m \u001b[0mare\u001b[0m \u001b[0mdone\u001b[0m \u001b[0;32mwith\u001b[0m \u001b[0mtheir\u001b[0m \u001b[0mpotential\u001b[0m \u001b[0mraises\u001b[0m\u001b[0;34m.\u001b[0m\u001b[0;34m\u001b[0m\u001b[0;34m\u001b[0m\u001b[0m\n\u001b[1;32m   1356\u001b[0m         \"\"\"\n\u001b[0;32m-> 1357\u001b[0;31m         self.handles = get_handle(\n\u001b[0m\u001b[1;32m   1358\u001b[0m             \u001b[0msrc\u001b[0m\u001b[0;34m,\u001b[0m\u001b[0;34m\u001b[0m\u001b[0;34m\u001b[0m\u001b[0m\n\u001b[1;32m   1359\u001b[0m             \u001b[0;34m\"r\"\u001b[0m\u001b[0;34m,\u001b[0m\u001b[0;34m\u001b[0m\u001b[0;34m\u001b[0m\u001b[0m\n",
      "\u001b[0;32m~/.local/lib/python3.8/site-packages/pandas/io/common.py\u001b[0m in \u001b[0;36mget_handle\u001b[0;34m(path_or_buf, mode, encoding, compression, memory_map, is_text, errors, storage_options)\u001b[0m\n\u001b[1;32m    640\u001b[0m                 \u001b[0merrors\u001b[0m \u001b[0;34m=\u001b[0m \u001b[0;34m\"replace\"\u001b[0m\u001b[0;34m\u001b[0m\u001b[0;34m\u001b[0m\u001b[0m\n\u001b[1;32m    641\u001b[0m             \u001b[0;31m# Encoding\u001b[0m\u001b[0;34m\u001b[0m\u001b[0;34m\u001b[0m\u001b[0;34m\u001b[0m\u001b[0m\n\u001b[0;32m--> 642\u001b[0;31m             handle = open(\n\u001b[0m\u001b[1;32m    643\u001b[0m                 \u001b[0mhandle\u001b[0m\u001b[0;34m,\u001b[0m\u001b[0;34m\u001b[0m\u001b[0;34m\u001b[0m\u001b[0m\n\u001b[1;32m    644\u001b[0m                 \u001b[0mioargs\u001b[0m\u001b[0;34m.\u001b[0m\u001b[0mmode\u001b[0m\u001b[0;34m,\u001b[0m\u001b[0;34m\u001b[0m\u001b[0;34m\u001b[0m\u001b[0m\n",
      "\u001b[0;31mFileNotFoundError\u001b[0m: [Errno 2] No such file or directory: '../input/covid19-in-india/covid_19_india.csv'"
     ]
    }
   ],
   "source": [
    "covid_india = pd.read_csv(r\"../input/covid19-in-india/covid_19_india.csv\") \n",
    "df = pd.read_csv(r\"../input/covid19-in-india/covid_vaccine_statewise.csv\") \n",
    "df.head()"
   ]
  },
  {
   "cell_type": "code",
   "execution_count": null,
   "metadata": {},
   "outputs": [],
   "source": [
    "deaths = covid_india.groupby(\"State/UnionTerritory\")[\"Deaths\"].sum().reset_index() \n",
    "px.bar(x=deaths.nlargest(10,\"Deaths\")[\"State/UnionTerritory\"],y = deaths.nlargest(10,\"Deaths\")[\"Deaths\"],color_discrete_sequence=px.colors.qualitative.Dark2,title=\"Top 10 states which are affecting from deaths\") "
   ]
  },
  {
   "cell_type": "code",
   "execution_count": null,
   "metadata": {},
   "outputs": [],
   "source": [
    "px.treemap(deaths,path=[\"State/UnionTerritory\"],values=\"Deaths\",title=\"Overall States Comparision of deaths\")"
   ]
  },
  {
   "cell_type": "code",
   "execution_count": null,
   "metadata": {},
   "outputs": [],
   "source": [
    "df.head()"
   ]
  },
  {
   "cell_type": "code",
   "execution_count": null,
   "metadata": {},
   "outputs": [],
   "source": [
    "print(f\"{g}Number of rows in a dataset ===> {r}{df.shape[0]}\")\n",
    "print(f\"{g}Number of columns in a dataset ===> {r}{df.shape[1]}\")"
   ]
  },
  {
   "cell_type": "code",
   "execution_count": null,
   "metadata": {},
   "outputs": [],
   "source": [
    "print(f\"{c}Information Data Types \\n\\n {m}{df.dtypes}\")"
   ]
  },
  {
   "cell_type": "code",
   "execution_count": null,
   "metadata": {},
   "outputs": [],
   "source": [
    "b = df[\"State\"].unique().tolist() \n",
    "print(f\"{m}Number of Unique states ==>\\n\\n{c}{b}\")"
   ]
  },
  {
   "cell_type": "code",
   "execution_count": null,
   "metadata": {},
   "outputs": [],
   "source": [
    "b = df[\"State\"].unique().tolist() \n",
    "v = df[df[\"State\"]==\"Andhra Pradesh\"].shape[0] \n",
    "v1 = df[df[\"State\"]==\"Andhra Pradesh\"].shape[1]"
   ]
  },
  {
   "cell_type": "code",
   "execution_count": null,
   "metadata": {},
   "outputs": [],
   "source": [
    "print(f\"Number of rows Containing state as andhra pradesh :{v}\") \n",
    "print(f\"Number of columns Containing state as andhra pradesh :{v1}\")"
   ]
  },
  {
   "cell_type": "code",
   "execution_count": null,
   "metadata": {},
   "outputs": [],
   "source": [
    "df[\"Male(Individuals Vaccinated)\"]"
   ]
  },
  {
   "cell_type": "code",
   "execution_count": null,
   "metadata": {},
   "outputs": [],
   "source": [
    "df[df[\"State\"]==\"Andhra Pradesh\"][\"Male(Individuals Vaccinated)\"].sum()"
   ]
  },
  {
   "cell_type": "markdown",
   "metadata": {},
   "source": [
    "<a id=\"sec1\"></a>\n",
    "<h2 style='border:3px solid DodgerBlue;'><center>Andhra Pradesh</center></h2>"
   ]
  },
  {
   "cell_type": "code",
   "execution_count": null,
   "metadata": {},
   "outputs": [],
   "source": [
    "andhra = df[df[\"State\"]==\"Andhra Pradesh\"] \n",
    "andhra.head()"
   ]
  },
  {
   "cell_type": "markdown",
   "metadata": {},
   "source": [
    "<h2 id='sec6' style = \"font-family: Comic Sans MS;color:white;background-color:#ff2e96\">Andhra Pradesh - Total Number of sessions are conducted from day to day</h2>"
   ]
  },
  {
   "cell_type": "code",
   "execution_count": null,
   "metadata": {},
   "outputs": [],
   "source": [
    "fig = px.line(andhra,x=\"Updated On\",y=\"Total Sessions Conducted\",title=\"Total Number of sessions are conducted from day to day\")  \n",
    "fig.update_xaxes(rangeslider_visible=True) "
   ]
  },
  {
   "cell_type": "code",
   "execution_count": null,
   "metadata": {},
   "outputs": [],
   "source": [
    "df[\"Total Individuals Registered\"]"
   ]
  },
  {
   "cell_type": "markdown",
   "metadata": {},
   "source": [
    "<h2 id='sec6' style = \"font-family: Comic Sans MS;color:white;background-color:#ff2e96\">Andhra Pradesh - Total Number of Individuals  are registering from day to day</h2>"
   ]
  },
  {
   "cell_type": "code",
   "execution_count": null,
   "metadata": {},
   "outputs": [],
   "source": [
    "fig = px.line(andhra,x=\"Updated On\",y=\"Total Individuals Registered\",title=\"Total Number of  are Individuals  are registering from day to day\")  \n",
    "fig.update_xaxes(rangeslider_visible=True)"
   ]
  },
  {
   "cell_type": "code",
   "execution_count": null,
   "metadata": {},
   "outputs": [],
   "source": [
    "male = andhra[\"Male(Individuals Vaccinated)\"].sum() \n",
    "female = andhra[\"Female(Individuals Vaccinated)\"].sum()  \n",
    "trans = andhra[\"Transgender(Individuals Vaccinated)\"].sum()\n",
    "px.pie(names=[\"Male Vaccinated\",\"Female Vaccinated\",\"Trans Gender\"],values=[male,female,trans],title=\"Male and Female Vaccinated ratio for Covid19--Andhra Pradesh\")"
   ]
  },
  {
   "cell_type": "code",
   "execution_count": null,
   "metadata": {},
   "outputs": [],
   "source": [
    "first = andhra[\"First Dose Administered\"].sum() \n",
    "second = andhra[\"Second Dose Administered\"].sum() \n",
    "px.pie(names=[\"First Dose\",\"Second dose\"],values=[first,second],title =\"First and Second dosage ratio for covid in andhra pradesh\")"
   ]
  },
  {
   "cell_type": "markdown",
   "metadata": {},
   "source": [
    "<a id=\"sec2\"></a>\n",
    "<h2 style='border:3px solid DodgerBlue;'><center>Arunachal Pradesh</center></h2>"
   ]
  },
  {
   "cell_type": "code",
   "execution_count": null,
   "metadata": {},
   "outputs": [],
   "source": [
    "arunachal_pradesh = df[df[\"State\"]==\"Arunachal Pradesh\"] \n",
    "arunachal_pradesh.head()"
   ]
  },
  {
   "cell_type": "code",
   "execution_count": null,
   "metadata": {},
   "outputs": [],
   "source": [
    "fig = px.line(arunachal_pradesh,x=\"Updated On\",y=\"Total Individuals Registered\",title=\"Total Number of  are Individuals  are registering from day to day-->arunachal Pradesh\")  \n",
    "fig.update_xaxes(rangeslider_visible=True) "
   ]
  },
  {
   "cell_type": "code",
   "execution_count": null,
   "metadata": {},
   "outputs": [],
   "source": [
    "fig = px.line(arunachal_pradesh,x=\"Updated On\",y=\"Total Sessions Conducted\",title=\"Total Number of sessions are conducted from day to day-->arunachal pradesh\")  \n",
    "fig.update_xaxes(rangeslider_visible=True) "
   ]
  },
  {
   "cell_type": "code",
   "execution_count": null,
   "metadata": {},
   "outputs": [],
   "source": [
    "male = arunachal_pradesh[\"Male(Individuals Vaccinated)\"].sum() \n",
    "female = arunachal_pradesh[\"Female(Individuals Vaccinated)\"].sum()  \n",
    "trans = arunachal_pradesh[\"Transgender(Individuals Vaccinated)\"].sum()\n",
    "px.pie(names=[\"Male Vaccinated\",\"Female Vaccinated\",\"Trans Gender\"],values=[male,female,trans],title=\"Male and Female Vaccinated ratio for Covid19--Arunachal Pradesh\")"
   ]
  },
  {
   "cell_type": "code",
   "execution_count": null,
   "metadata": {},
   "outputs": [],
   "source": [
    "first = arunachal_pradesh[\"First Dose Administered\"].sum() \n",
    "second = arunachal_pradesh[\"Second Dose Administered\"].sum() \n",
    "px.pie(names=[\"First Dose\",\"Second dose\"],values=[first,second],title =\"First and Second dosage ratio for covid in Arunachal Pradesh\")"
   ]
  },
  {
   "cell_type": "markdown",
   "metadata": {},
   "source": [
    "<a id=\"sec3\"></a>\n",
    "<h2 style='border:3px solid DodgerBlue;'><center>Assam</center></h2>"
   ]
  },
  {
   "cell_type": "code",
   "execution_count": null,
   "metadata": {},
   "outputs": [],
   "source": [
    "Assam = df[df[\"State\"]=='Assam']"
   ]
  },
  {
   "cell_type": "code",
   "execution_count": null,
   "metadata": {},
   "outputs": [],
   "source": [
    "fig = px.line(Assam,x=\"Updated On\",y=\"Total Individuals Registered\",title=\"Total Number of  are Individuals  are registering from day to day-->assam\")  \n",
    "fig.update_xaxes(rangeslider_visible=True) "
   ]
  },
  {
   "cell_type": "code",
   "execution_count": null,
   "metadata": {},
   "outputs": [],
   "source": [
    "fig = px.line(Assam,x=\"Updated On\",y=\"Total Sessions Conducted\",title=\"Total Number of sessions are conducted from day to day-->assam\")  \n",
    "fig.update_xaxes(rangeslider_visible=True) "
   ]
  },
  {
   "cell_type": "code",
   "execution_count": null,
   "metadata": {},
   "outputs": [],
   "source": [
    "male = Assam[\"Male(Individuals Vaccinated)\"].sum() \n",
    "female = Assam[\"Female(Individuals Vaccinated)\"].sum()  \n",
    "trans = Assam[\"Transgender(Individuals Vaccinated)\"].sum()\n",
    "px.pie(names=[\"Male Vaccinated\",\"Female Vaccinated\",\"Trans Gender\"],values=[male,female,trans],title=\"Male and Female Vaccinated ratio for Covid19--Assam\")"
   ]
  },
  {
   "cell_type": "code",
   "execution_count": null,
   "metadata": {},
   "outputs": [],
   "source": [
    "first = Assam[\"First Dose Administered\"].sum() \n",
    "second = Assam[\"Second Dose Administered\"].sum() \n",
    "px.pie(names=[\"First Dose\",\"Second dose\"],values=[first,second],title =\"First and Second dosage ratio for covid in Assam\")"
   ]
  },
  {
   "cell_type": "markdown",
   "metadata": {},
   "source": [
    "<a id=\"sec4\"></a>\n",
    "<h2 style='border:3px solid DodgerBlue;'><center>Bihar</center></h2>"
   ]
  },
  {
   "cell_type": "code",
   "execution_count": null,
   "metadata": {},
   "outputs": [],
   "source": [
    "Bihar = df[df[\"State\"]==\"Bihar\"]"
   ]
  },
  {
   "cell_type": "code",
   "execution_count": null,
   "metadata": {},
   "outputs": [],
   "source": [
    "fig = px.line(Bihar,x=\"Updated On\",y=\"Total Sessions Conducted\",title=\"Total Number of sessions are conducted from day to day-->Bihar\")  \n",
    "fig.update_xaxes(rangeslider_visible=True) "
   ]
  },
  {
   "cell_type": "code",
   "execution_count": null,
   "metadata": {},
   "outputs": [],
   "source": [
    "fig = px.line(Bihar,x=\"Updated On\",y=\"Total Individuals Registered\",title=\"Total Number of  are Individuals  are registering from day to day-->Bihar\")  \n",
    "fig.update_xaxes(rangeslider_visible=True) "
   ]
  },
  {
   "cell_type": "code",
   "execution_count": null,
   "metadata": {},
   "outputs": [],
   "source": [
    "male = Bihar[\"Male(Individuals Vaccinated)\"].sum() \n",
    "female = Bihar[\"Female(Individuals Vaccinated)\"].sum()  \n",
    "trans = Bihar[\"Transgender(Individuals Vaccinated)\"].sum()\n",
    "px.pie(names=[\"Male Vaccinated\",\"Female Vaccinated\",\"Trans Gender\"],values=[male,female,trans],title=\"Male and Female Vaccinated ratio for Covid19--Bihar\")"
   ]
  },
  {
   "cell_type": "code",
   "execution_count": null,
   "metadata": {},
   "outputs": [],
   "source": [
    "first = Bihar[\"First Dose Administered\"].sum() \n",
    "second = Bihar[\"Second Dose Administered\"].sum() \n",
    "px.pie(names=[\"First Dose\",\"Second dose\"],values=[first,second],title =\"First and Second dosage ratio for covid in Bihar\")"
   ]
  },
  {
   "cell_type": "markdown",
   "metadata": {},
   "source": [
    "<a id=\"sec5\"></a>\n",
    "<h2 style='border:3px solid DodgerBlue;'><center>Chandigarh</center></h2>"
   ]
  },
  {
   "cell_type": "code",
   "execution_count": null,
   "metadata": {},
   "outputs": [],
   "source": [
    "chandigarh = df[df[\"State\"]==\"Chandigarh\"] "
   ]
  },
  {
   "cell_type": "code",
   "execution_count": null,
   "metadata": {},
   "outputs": [],
   "source": [
    "fig = px.line(chandigarh,x=\"Updated On\",y=\"Total Individuals Registered\",title=\"Total Number of  are Individuals  are registering from day to day-->Chandigarh\")  \n",
    "fig.update_xaxes(rangeslider_visible=True) "
   ]
  },
  {
   "cell_type": "code",
   "execution_count": null,
   "metadata": {},
   "outputs": [],
   "source": [
    "fig = px.line(chandigarh,x=\"Updated On\",y=\"Total Sessions Conducted\",title=\"Total Number of sessions are conducted from day to day-->Chandigarh\")  \n",
    "fig.update_xaxes(rangeslider_visible=True) "
   ]
  },
  {
   "cell_type": "code",
   "execution_count": null,
   "metadata": {},
   "outputs": [],
   "source": [
    "male = chandigarh[\"Male(Individuals Vaccinated)\"].sum() \n",
    "female = chandigarh[\"Female(Individuals Vaccinated)\"].sum()  \n",
    "trans = chandigarh[\"Transgender(Individuals Vaccinated)\"].sum()\n",
    "px.pie(names=[\"Male Vaccinated\",\"Female Vaccinated\",\"Trans Gender\"],values=[male,female,trans],title=\"Male and Female Vaccinated ratio for Covid19--chandigarh\")"
   ]
  },
  {
   "cell_type": "code",
   "execution_count": null,
   "metadata": {},
   "outputs": [],
   "source": [
    "first = chandigarh[\"First Dose Administered\"].sum() \n",
    "second = chandigarh[\"Second Dose Administered\"].sum() \n",
    "px.pie(names=[\"First Dose\",\"Second dose\"],values=[first,second],title =\"First and Second dosage ratio for covid in chandigarh\")"
   ]
  },
  {
   "cell_type": "markdown",
   "metadata": {},
   "source": [
    "<a id=\"sec6\"></a>\n",
    "<h2 style='border:3px solid DodgerBlue;'><center>Chattisgarh</center></h2>"
   ]
  },
  {
   "cell_type": "code",
   "execution_count": null,
   "metadata": {},
   "outputs": [],
   "source": [
    "chattisgarh = df[df[\"State\"]=='Chhattisgarh']"
   ]
  },
  {
   "cell_type": "code",
   "execution_count": null,
   "metadata": {},
   "outputs": [],
   "source": [
    "fig = px.line(chattisgarh,x=\"Updated On\",y=\"Total Individuals Registered\",title=\"Total Number of  are Individuals  are registering from day to day-->Chattisgarh\")  \n",
    "fig.update_xaxes(rangeslider_visible=True) "
   ]
  },
  {
   "cell_type": "code",
   "execution_count": null,
   "metadata": {},
   "outputs": [],
   "source": [
    "fig = px.line(chattisgarh,x=\"Updated On\",y=\"Total Sessions Conducted\",title=\"Total Number of sessions are conducted from day to day-->Chattisgarh\")  \n",
    "fig.update_xaxes(rangeslider_visible=True) "
   ]
  },
  {
   "cell_type": "code",
   "execution_count": null,
   "metadata": {},
   "outputs": [],
   "source": [
    "male = chattisgarh[\"Male(Individuals Vaccinated)\"].sum() \n",
    "female = chattisgarh[\"Female(Individuals Vaccinated)\"].sum()  \n",
    "trans = chattisgarh[\"Transgender(Individuals Vaccinated)\"].sum()\n",
    "px.pie(names=[\"Male Vaccinated\",\"Female Vaccinated\",\"Trans Gender\"],values=[male,female,trans],title=\"Male and Female Vaccinated ratio for Covid19-->chattisgarh\")"
   ]
  },
  {
   "cell_type": "code",
   "execution_count": null,
   "metadata": {},
   "outputs": [],
   "source": [
    "first = chattisgarh[\"First Dose Administered\"].sum() \n",
    "second = chattisgarh[\"Second Dose Administered\"].sum() \n",
    "px.pie(names=[\"First Dose\",\"Second dose\"],values=[first,second],title =\"First and Second dosage ratio for covid in chattisgarh\")"
   ]
  },
  {
   "cell_type": "markdown",
   "metadata": {},
   "source": [
    "<a id=\"sec7\"></a>\n",
    "<h2 style='border:3px solid DodgerBlue;'><center>Delhi</center></h2>"
   ]
  },
  {
   "cell_type": "code",
   "execution_count": null,
   "metadata": {},
   "outputs": [],
   "source": [
    "Delhi = df[df[\"State\"]=='Delhi']"
   ]
  },
  {
   "cell_type": "code",
   "execution_count": null,
   "metadata": {},
   "outputs": [],
   "source": [
    "fig = px.line(Delhi,x=\"Updated On\",y=\"Total Individuals Registered\",title=\"Total Number of  are Individuals  are registering from day to day-->Delhi\")  \n",
    "fig.update_xaxes(rangeslider_visible=True) "
   ]
  },
  {
   "cell_type": "code",
   "execution_count": null,
   "metadata": {},
   "outputs": [],
   "source": [
    "fig = px.line(Delhi,x=\"Updated On\",y=\"Total Sessions Conducted\",title=\"Total Number of sessions are conducted from day to day-->Delhi\")  \n",
    "fig.update_xaxes(rangeslider_visible=True) "
   ]
  },
  {
   "cell_type": "code",
   "execution_count": null,
   "metadata": {},
   "outputs": [],
   "source": [
    "male = Delhi[\"Male(Individuals Vaccinated)\"].sum() \n",
    "female = Delhi[\"Female(Individuals Vaccinated)\"].sum()  \n",
    "trans = Delhi[\"Transgender(Individuals Vaccinated)\"].sum()\n",
    "px.pie(names=[\"Male Vaccinated\",\"Female Vaccinated\",\"Trans Gender\"],values=[male,female,trans],title=\"Male and Female Vaccinated ratio for Covid19-->Delhi\")"
   ]
  },
  {
   "cell_type": "code",
   "execution_count": null,
   "metadata": {},
   "outputs": [],
   "source": [
    "first = Delhi[\"First Dose Administered\"].sum() \n",
    "second = Delhi[\"Second Dose Administered\"].sum() \n",
    "px.pie(names=[\"First Dose\",\"Second dose\"],values=[first,second],title =\"First and Second dosage ratio for covid in Delhi\")"
   ]
  },
  {
   "cell_type": "markdown",
   "metadata": {},
   "source": [
    "<a id=\"sec8\"></a>\n",
    "<h2 style='border:3px solid DodgerBlue;'><center>Goa</center></h2>"
   ]
  },
  {
   "cell_type": "code",
   "execution_count": null,
   "metadata": {},
   "outputs": [],
   "source": [
    "goa = df[df[\"State\"]=='goa'] "
   ]
  },
  {
   "cell_type": "code",
   "execution_count": null,
   "metadata": {},
   "outputs": [],
   "source": [
    "fig = px.line(goa,x=\"Updated On\",y=\"Total Individuals Registered\",title=\"Total Number of  are Individuals  are registering from day to day-->Goa\")  \n",
    "fig.update_xaxes(rangeslider_visible=True) "
   ]
  },
  {
   "cell_type": "code",
   "execution_count": null,
   "metadata": {},
   "outputs": [],
   "source": [
    "fig = px.line(goa,x=\"Updated On\",y=\"Total Sessions Conducted\",title=\"Total Number of sessions are conducted from day to day-->Goa\")  \n",
    "fig.update_xaxes(rangeslider_visible=True) "
   ]
  },
  {
   "cell_type": "code",
   "execution_count": null,
   "metadata": {},
   "outputs": [],
   "source": [
    "male = goa[\"Male(Individuals Vaccinated)\"].sum() \n",
    "female = goa[\"Female(Individuals Vaccinated)\"].sum()  \n",
    "trans = goa[\"Transgender(Individuals Vaccinated)\"].sum()\n",
    "px.pie(names=[\"Male Vaccinated\",\"Female Vaccinated\",\"Trans Gender\"],values=[male,female,trans],title=\"Male and Female Vaccinated ratio for Covid19-->Goa\")"
   ]
  },
  {
   "cell_type": "markdown",
   "metadata": {},
   "source": [
    "<a id=\"sec9\"></a>\n",
    "<h2 style='border:3px solid DodgerBlue;'><center>Gujarat</center></h2>"
   ]
  },
  {
   "cell_type": "code",
   "execution_count": null,
   "metadata": {},
   "outputs": [],
   "source": [
    "gujarat = df[df[\"State\"]=='Gujarat']"
   ]
  },
  {
   "cell_type": "code",
   "execution_count": null,
   "metadata": {},
   "outputs": [],
   "source": [
    "fig = px.line(gujarat,x=\"Updated On\",y=\"Total Individuals Registered\",title=\"Total Number of  are Individuals  are registering from day to day-->Gujarat\")  \n",
    "fig.update_xaxes(rangeslider_visible=True) "
   ]
  },
  {
   "cell_type": "code",
   "execution_count": null,
   "metadata": {},
   "outputs": [],
   "source": [
    "fig = px.line(gujarat,x=\"Updated On\",y=\"Total Sessions Conducted\",title=\"Total Number of sessions are conducted from day to day-->Gujarat\")  \n",
    "fig.update_xaxes(rangeslider_visible=True) "
   ]
  },
  {
   "cell_type": "code",
   "execution_count": null,
   "metadata": {},
   "outputs": [],
   "source": [
    "male = gujarat[\"Male(Individuals Vaccinated)\"].sum() \n",
    "female = gujarat[\"Female(Individuals Vaccinated)\"].sum()  \n",
    "trans = gujarat[\"Transgender(Individuals Vaccinated)\"].sum()\n",
    "px.pie(names=[\"Male Vaccinated\",\"Female Vaccinated\",\"Trans Gender\"],values=[male,female,trans],title=\"Male and Female Vaccinated ratio for Covid19-->Gujarat\")"
   ]
  },
  {
   "cell_type": "code",
   "execution_count": null,
   "metadata": {},
   "outputs": [],
   "source": [
    "first = gujarat[\"First Dose Administered\"].sum() \n",
    "second = gujarat[\"Second Dose Administered\"].sum() \n",
    "px.pie(names=[\"First Dose\",\"Second dose\"],values=[first,second],title =\"First and Second dosage ratio for covid in Gujarat\")"
   ]
  },
  {
   "cell_type": "markdown",
   "metadata": {},
   "source": [
    "<a id=\"sec10\"></a>\n",
    "<h2 style='border:3px solid DodgerBlue;'><center>Haryana</center></h2>"
   ]
  },
  {
   "cell_type": "code",
   "execution_count": null,
   "metadata": {},
   "outputs": [],
   "source": [
    "haryana = df[df[\"State\"]=='Haryana']"
   ]
  },
  {
   "cell_type": "code",
   "execution_count": null,
   "metadata": {},
   "outputs": [],
   "source": [
    "fig = px.line(haryana,x=\"Updated On\",y=\"Total Individuals Registered\",title=\"Total Number of  are Individuals  are registering from day to day-->Haryana\")  \n",
    "fig.update_xaxes(rangeslider_visible=True) "
   ]
  },
  {
   "cell_type": "code",
   "execution_count": null,
   "metadata": {},
   "outputs": [],
   "source": [
    "fig = px.line(haryana,x=\"Updated On\",y=\"Total Sessions Conducted\",title=\"Total Number of sessions are conducted from day to day-->haryana\")  \n",
    "fig.update_xaxes(rangeslider_visible=True)"
   ]
  },
  {
   "cell_type": "code",
   "execution_count": null,
   "metadata": {},
   "outputs": [],
   "source": [
    "male = haryana[\"Male(Individuals Vaccinated)\"].sum() \n",
    "female = haryana[\"Female(Individuals Vaccinated)\"].sum()  \n",
    "trans = haryana[\"Transgender(Individuals Vaccinated)\"].sum()\n",
    "px.pie(names=[\"Male Vaccinated\",\"Female Vaccinated\",\"Trans Gender\"],values=[male,female,trans],title=\"Male and Female Vaccinated ratio for Covid19-->Haryana\")"
   ]
  },
  {
   "cell_type": "code",
   "execution_count": null,
   "metadata": {},
   "outputs": [],
   "source": [
    "first = haryana[\"First Dose Administered\"].sum() \n",
    "second = haryana[\"Second Dose Administered\"].sum()\n",
    "px.pie(names=[\"First Dose\",\"Second dose\"],values=[first,second],title =\"First and Second dosage ratio for covid in haryana\")"
   ]
  },
  {
   "cell_type": "markdown",
   "metadata": {},
   "source": [
    "<a id=\"sec11\"></a>\n",
    "<h2 style='border:3px solid DodgerBlue;'><center>Himachal Pradesh</center></h2>"
   ]
  },
  {
   "cell_type": "code",
   "execution_count": null,
   "metadata": {},
   "outputs": [],
   "source": [
    "himachal_pradesh = df[df[\"State\"]=='Himachal Pradesh']"
   ]
  },
  {
   "cell_type": "code",
   "execution_count": null,
   "metadata": {},
   "outputs": [],
   "source": [
    "fig = px.line(himachal_pradesh,x=\"Updated On\",y=\"Total Individuals Registered\",title=\"Total Number of  are Individuals  are registering from day to day-->Himachal_pradesh\")  \n",
    "fig.update_xaxes(rangeslider_visible=True) "
   ]
  },
  {
   "cell_type": "code",
   "execution_count": null,
   "metadata": {},
   "outputs": [],
   "source": [
    "fig = px.line(himachal_pradesh,x=\"Updated On\",y=\"Total Sessions Conducted\",title=\"Total Number of sessions are conducted from day to day-->himachal_pradesh\")  \n",
    "fig.update_xaxes(rangeslider_visible=True)"
   ]
  },
  {
   "cell_type": "code",
   "execution_count": null,
   "metadata": {},
   "outputs": [],
   "source": [
    "male = himachal_pradesh[\"Male(Individuals Vaccinated)\"].sum() \n",
    "female = himachal_pradesh[\"Female(Individuals Vaccinated)\"].sum()  \n",
    "trans = himachal_pradesh[\"Transgender(Individuals Vaccinated)\"].sum()\n",
    "px.pie(names=[\"Male Vaccinated\",\"Female Vaccinated\",\"Trans Gender\"],values=[male,female,trans],title=\"Male and Female Vaccinated ratio for Covid19-->Himachal_pradesh\")"
   ]
  },
  {
   "cell_type": "code",
   "execution_count": null,
   "metadata": {},
   "outputs": [],
   "source": [
    "first = himachal_pradesh[\"First Dose Administered\"].sum() \n",
    "second = himachal_pradesh[\"Second Dose Administered\"].sum()\n",
    "px.pie(names=[\"First Dose\",\"Second dose\"],values=[first,second],title =\"First and Second dosage ratio for covid in himachal_pradesh\")"
   ]
  },
  {
   "cell_type": "markdown",
   "metadata": {},
   "source": [
    "<a id=\"sec12\"></a>\n",
    "<h2 style='border:3px solid DodgerBlue;'><center>Jammu and kashmir</center></h2>"
   ]
  },
  {
   "cell_type": "code",
   "execution_count": null,
   "metadata": {},
   "outputs": [],
   "source": [
    "Jammu_kashmir = df[df[\"State\"]=='Jammu and Kashmir']"
   ]
  },
  {
   "cell_type": "code",
   "execution_count": null,
   "metadata": {},
   "outputs": [],
   "source": [
    "fig = px.line(Jammu_kashmir,x=\"Updated On\",y=\"Total Individuals Registered\",title=\"Total Number of  are Individuals  are registering from day to day-->Jammu_kashmir\")  \n",
    "fig.update_xaxes(rangeslider_visible=True) "
   ]
  },
  {
   "cell_type": "code",
   "execution_count": null,
   "metadata": {},
   "outputs": [],
   "source": [
    "fig = px.line(Jammu_kashmir,x=\"Updated On\",y=\"Total Sessions Conducted\",title=\"Total Number of sessions are conducted from day to day-->Jammu_kashmir\")  \n",
    "fig.update_xaxes(rangeslider_visible=True)"
   ]
  },
  {
   "cell_type": "code",
   "execution_count": null,
   "metadata": {},
   "outputs": [],
   "source": [
    "male = Jammu_kashmir[\"Male(Individuals Vaccinated)\"].sum() \n",
    "female = Jammu_kashmir[\"Female(Individuals Vaccinated)\"].sum()  \n",
    "trans = Jammu_kashmir[\"Transgender(Individuals Vaccinated)\"].sum()\n",
    "px.pie(names=[\"Male Vaccinated\",\"Female Vaccinated\",\"Trans Gender\"],values=[male,female,trans],title=\"Male and Female Vaccinated ratio for Covid19-->Jammu_Kashmir\")"
   ]
  },
  {
   "cell_type": "code",
   "execution_count": null,
   "metadata": {},
   "outputs": [],
   "source": [
    "first = Jammu_kashmir[\"First Dose Administered\"].sum() \n",
    "second = Jammu_kashmir[\"Second Dose Administered\"].sum()\n",
    "px.pie(names=[\"First Dose\",\"Second dose\"],values=[first,second],title =\"First and Second dosage ratio for covid in Jammu_kashmir\")"
   ]
  },
  {
   "cell_type": "markdown",
   "metadata": {},
   "source": [
    "<a id=\"sec13\"></a>\n",
    "<h2 style='border:3px solid DodgerBlue;'><center>Jharkhand</center></h2>"
   ]
  },
  {
   "cell_type": "code",
   "execution_count": null,
   "metadata": {},
   "outputs": [],
   "source": [
    "Jharkhand = df[df[\"State\"]==\"Jharkhand\"]"
   ]
  },
  {
   "cell_type": "code",
   "execution_count": null,
   "metadata": {},
   "outputs": [],
   "source": [
    "fig = px.line(Jharkhand,x=\"Updated On\",y=\"Total Individuals Registered\",title=\"Total Number of  are Individuals  are registering from day to day-->Jharkand\")  \n",
    "fig.update_xaxes(rangeslider_visible=True) "
   ]
  },
  {
   "cell_type": "code",
   "execution_count": null,
   "metadata": {},
   "outputs": [],
   "source": [
    "fig = px.line(Jharkhand,x=\"Updated On\",y=\"Total Sessions Conducted\",title=\"Total Number of sessions are conducted from day to day-->Jammu_kashmir\")  \n",
    "fig.update_xaxes(rangeslider_visible=True)"
   ]
  },
  {
   "cell_type": "code",
   "execution_count": null,
   "metadata": {},
   "outputs": [],
   "source": [
    "male = Jharkhand[\"Male(Individuals Vaccinated)\"].sum() \n",
    "female = Jharkhand[\"Female(Individuals Vaccinated)\"].sum()  \n",
    "trans = Jharkhand[\"Transgender(Individuals Vaccinated)\"].sum()\n",
    "px.pie(names=[\"Male Vaccinated\",\"Female Vaccinated\",\"Trans Gender\"],values=[male,female,trans],title=\"Male and Female Vaccinated ratio for Covid19-->Jharkhand\")"
   ]
  },
  {
   "cell_type": "code",
   "execution_count": null,
   "metadata": {},
   "outputs": [],
   "source": [
    "first = Jharkhand[\"First Dose Administered\"].sum() \n",
    "second = Jharkhand[\"Second Dose Administered\"].sum()\n",
    "px.pie(names=[\"First Dose\",\"Second dose\"],values=[first,second],title =\"First and Second dosage ratio for covid in Jharkhand\")"
   ]
  },
  {
   "cell_type": "markdown",
   "metadata": {},
   "source": [
    "<a id=\"sec14\"></a>\n",
    "<h2 style='border:3px solid DodgerBlue;'><center>Karnataka</center></h2>"
   ]
  },
  {
   "cell_type": "code",
   "execution_count": null,
   "metadata": {},
   "outputs": [],
   "source": [
    "Karnataka = df[df[\"State\"]=='Karnataka']"
   ]
  },
  {
   "cell_type": "code",
   "execution_count": null,
   "metadata": {},
   "outputs": [],
   "source": [
    "fig = px.line(Karnataka,x=\"Updated On\",y=\"Total Individuals Registered\",title=\"Total Number of  are Individuals  are registering from day to day-->Karnataka\")  \n",
    "fig.update_xaxes(rangeslider_visible=True) "
   ]
  },
  {
   "cell_type": "code",
   "execution_count": null,
   "metadata": {},
   "outputs": [],
   "source": [
    "fig = px.line(Karnataka,x=\"Updated On\",y=\"Total Sessions Conducted\",title=\"Total Number of sessions are conducted from day to day-->Karnataka\")  \n",
    "fig.update_xaxes(rangeslider_visible=True)"
   ]
  },
  {
   "cell_type": "code",
   "execution_count": null,
   "metadata": {},
   "outputs": [],
   "source": [
    "male = Karnataka[\"Male(Individuals Vaccinated)\"].sum() \n",
    "female = Karnataka[\"Female(Individuals Vaccinated)\"].sum()  \n",
    "trans = Karnataka[\"Transgender(Individuals Vaccinated)\"].sum()\n",
    "px.pie(names=[\"Male Vaccinated\",\"Female Vaccinated\",\"Trans Gender\"],values=[male,female,trans],title=\"Male and Female Vaccinated ratio for Covid19-->Karnataka\")"
   ]
  },
  {
   "cell_type": "code",
   "execution_count": null,
   "metadata": {},
   "outputs": [],
   "source": [
    "first = Karnataka[\"First Dose Administered\"].sum() \n",
    "second = Karnataka[\"Second Dose Administered\"].sum()\n",
    "px.pie(names=[\"First Dose\",\"Second dose\"],values=[first,second],title =\"First and Second dosage ratio for covid in Karnataka\")"
   ]
  },
  {
   "cell_type": "markdown",
   "metadata": {},
   "source": [
    "<a id=\"sec15\"></a>\n",
    "<h2 style='border:3px solid DodgerBlue;'><center>Kerala</center></h2>"
   ]
  },
  {
   "cell_type": "code",
   "execution_count": null,
   "metadata": {},
   "outputs": [],
   "source": [
    "kerala = df[df[\"State\"]==\"Kerala\"]"
   ]
  },
  {
   "cell_type": "code",
   "execution_count": null,
   "metadata": {},
   "outputs": [],
   "source": [
    "fig = px.line(kerala,x=\"Updated On\",y=\"Total Individuals Registered\",title=\"Total Number of  are Individuals  are registering from day to day-->Kerala\")  \n",
    "fig.update_xaxes(rangeslider_visible=True) "
   ]
  },
  {
   "cell_type": "code",
   "execution_count": null,
   "metadata": {},
   "outputs": [],
   "source": [
    "fig = px.line(kerala,x=\"Updated On\",y=\"Total Sessions Conducted\",title=\"Total Number of sessions are conducted from day to day-->Kerala\")  \n",
    "fig.update_xaxes(rangeslider_visible=True)"
   ]
  },
  {
   "cell_type": "code",
   "execution_count": null,
   "metadata": {},
   "outputs": [],
   "source": [
    "male = kerala[\"Male(Individuals Vaccinated)\"].sum() \n",
    "female = kerala[\"Female(Individuals Vaccinated)\"].sum()  \n",
    "trans = kerala[\"Transgender(Individuals Vaccinated)\"].sum()\n",
    "px.pie(names=[\"Male Vaccinated\",\"Female Vaccinated\",\"Trans Gender\"],values=[male,female,trans],title=\"Male and Female Vaccinated ratio for Covid19-->kerala\")"
   ]
  },
  {
   "cell_type": "code",
   "execution_count": null,
   "metadata": {},
   "outputs": [],
   "source": [
    "first = kerala[\"First Dose Administered\"].sum() \n",
    "second = kerala[\"Second Dose Administered\"].sum()\n",
    "px.pie(names=[\"First Dose\",\"Second dose\"],values=[first,second],title =\"First and Second dosage ratio for covid in kerala\")"
   ]
  },
  {
   "cell_type": "markdown",
   "metadata": {},
   "source": [
    "<a id=\"sec16\"></a>\n",
    "<h2 style='border:3px solid DodgerBlue;'><center>Madhya Pradesh</center></h2>"
   ]
  },
  {
   "cell_type": "code",
   "execution_count": null,
   "metadata": {},
   "outputs": [],
   "source": [
    "madhya_pradesh = df[df[\"State\"]=='Madhya Pradesh']"
   ]
  },
  {
   "cell_type": "code",
   "execution_count": null,
   "metadata": {},
   "outputs": [],
   "source": [
    "fig = px.line(madhya_pradesh,x=\"Updated On\",y=\"Total Individuals Registered\",title=\"Total Number of  are Individuals  are registering from day to day-->madhya_pradesh\")  \n",
    "fig.update_xaxes(rangeslider_visible=True) "
   ]
  },
  {
   "cell_type": "code",
   "execution_count": null,
   "metadata": {},
   "outputs": [],
   "source": [
    "fig = px.line(madhya_pradesh,x=\"Updated On\",y=\"Total Sessions Conducted\",title=\"Total Number of sessions are conducted from day to day-->madhya_pradesh\")  \n",
    "fig.update_xaxes(rangeslider_visible=True)"
   ]
  },
  {
   "cell_type": "code",
   "execution_count": null,
   "metadata": {},
   "outputs": [],
   "source": [
    "male = madhya_pradesh[\"Male(Individuals Vaccinated)\"].sum() \n",
    "female = madhya_pradesh[\"Female(Individuals Vaccinated)\"].sum()  \n",
    "trans = madhya_pradesh[\"Transgender(Individuals Vaccinated)\"].sum()\n",
    "px.pie(names=[\"Male Vaccinated\",\"Female Vaccinated\",\"Trans Gender\"],values=[male,female,trans],title=\"Male and Female Vaccinated ratio for Covid19-->madhya_pradesh\")"
   ]
  },
  {
   "cell_type": "code",
   "execution_count": null,
   "metadata": {},
   "outputs": [],
   "source": [
    "first = madhya_pradesh[\"First Dose Administered\"].sum() \n",
    "second = madhya_pradesh[\"Second Dose Administered\"].sum()\n",
    "px.pie(names=[\"First Dose\",\"Second dose\"],values=[first,second],title =\"First and Second dosage ratio for covid in madhya_pradesh\")"
   ]
  },
  {
   "cell_type": "markdown",
   "metadata": {},
   "source": [
    "<a id=\"sec17\"></a>\n",
    "<h2 style='border:3px solid DodgerBlue;'><center>Maharashtra</center></h2>"
   ]
  },
  {
   "cell_type": "code",
   "execution_count": null,
   "metadata": {},
   "outputs": [],
   "source": [
    "Maharashtra = df[df[\"State\"]==\"Maharashtra\"]"
   ]
  },
  {
   "cell_type": "code",
   "execution_count": null,
   "metadata": {},
   "outputs": [],
   "source": [
    "fig = px.line(Maharashtra,x=\"Updated On\",y=\"Total Individuals Registered\",title=\"Total Number of  are Individuals  are registering from day to day-->Maharashtra\")  \n",
    "fig.update_xaxes(rangeslider_visible=True) "
   ]
  },
  {
   "cell_type": "code",
   "execution_count": null,
   "metadata": {},
   "outputs": [],
   "source": [
    "fig = px.line(Maharashtra,x=\"Updated On\",y=\"Total Sessions Conducted\",title=\"Total Number of sessions are conducted from day to day-->Maharashtra\")  \n",
    "fig.update_xaxes(rangeslider_visible=True)"
   ]
  },
  {
   "cell_type": "code",
   "execution_count": null,
   "metadata": {},
   "outputs": [],
   "source": [
    "male = Maharashtra[\"Male(Individuals Vaccinated)\"].sum() \n",
    "female = Maharashtra[\"Female(Individuals Vaccinated)\"].sum()  \n",
    "trans  = Maharashtra[\"Transgender(Individuals Vaccinated)\"].sum()\n",
    "px.pie(names=[\"Male Vaccinated\",\"Female Vaccinated\",\"Trans Gender\"],values=[male,female,trans],title=\"Male and Female Vaccinated ratio for Covid19-->Maharashtra\")"
   ]
  },
  {
   "cell_type": "code",
   "execution_count": null,
   "metadata": {},
   "outputs": [],
   "source": [
    "first = Maharashtra[\"First Dose Administered\"].sum() \n",
    "second = Maharashtra[\"Second Dose Administered\"].sum()\n",
    "px.pie(names=[\"First Dose\",\"Second dose\"],values=[first,second],title =\"First and Second dosage ratio for covid in Maharashtra\")"
   ]
  },
  {
   "cell_type": "markdown",
   "metadata": {},
   "source": [
    "<a id=\"sec18\"></a>\n",
    "<h2 style='border:3px solid DodgerBlue;'><center>Manipur</center></h2>"
   ]
  },
  {
   "cell_type": "code",
   "execution_count": null,
   "metadata": {},
   "outputs": [],
   "source": [
    "Manipur = df[df[\"State\"]==\"Manipur\"]"
   ]
  },
  {
   "cell_type": "code",
   "execution_count": null,
   "metadata": {},
   "outputs": [],
   "source": [
    "fig = px.line(Manipur,x=\"Updated On\",y=\"Total Individuals Registered\",title=\"Total Number of  are Individuals  are registering from day to day-->Manipur\")  \n",
    "fig.update_xaxes(rangeslider_visible=True) "
   ]
  },
  {
   "cell_type": "code",
   "execution_count": null,
   "metadata": {},
   "outputs": [],
   "source": [
    "fig = px.line(Manipur,x=\"Updated On\",y=\"Total Sessions Conducted\",title=\"Total Number of sessions are conducted from day to day-->Manipur\")  \n",
    "fig.update_xaxes(rangeslider_visible=True)"
   ]
  },
  {
   "cell_type": "code",
   "execution_count": null,
   "metadata": {},
   "outputs": [],
   "source": [
    "male = Manipur[\"Male(Individuals Vaccinated)\"].sum() \n",
    "female = Manipur[\"Female(Individuals Vaccinated)\"].sum()  \n",
    "trans  = Manipur[\"Transgender(Individuals Vaccinated)\"].sum()\n",
    "px.pie(names=[\"Male Vaccinated\",\"Female Vaccinated\",\"Trans Gender\"],values=[male,female,trans],title=\"Male and Female Vaccinated ratio for Covid19-->Manipur\")"
   ]
  },
  {
   "cell_type": "code",
   "execution_count": null,
   "metadata": {},
   "outputs": [],
   "source": [
    "first = Manipur[\"First Dose Administered\"].sum() \n",
    "second = Manipur[\"Second Dose Administered\"].sum()\n",
    "px.pie(names=[\"First Dose\",\"Second dose\"],values=[first,second],title =\"First and Second dosage ratio for covid in Manipur\")"
   ]
  },
  {
   "cell_type": "markdown",
   "metadata": {},
   "source": [
    "<a id=\"sec19\"></a>\n",
    "<h2 style='border:3px solid DodgerBlue;'><center>Meghalaya</center></h2>"
   ]
  },
  {
   "cell_type": "code",
   "execution_count": null,
   "metadata": {},
   "outputs": [],
   "source": [
    "Meghalaya = df[df[\"State\"]==\"Meghalaya\"] "
   ]
  },
  {
   "cell_type": "code",
   "execution_count": null,
   "metadata": {},
   "outputs": [],
   "source": [
    "fig = px.line(Meghalaya,x=\"Updated On\",y=\"Total Individuals Registered\",title=\"Total Number of  are Individuals  are registering from day to day-->Meghalaya\")  \n",
    "fig.update_xaxes(rangeslider_visible=True) "
   ]
  },
  {
   "cell_type": "code",
   "execution_count": null,
   "metadata": {},
   "outputs": [],
   "source": [
    "fig = px.line(Meghalaya,x=\"Updated On\",y=\"Total Sessions Conducted\",title=\"Total Number of sessions are conducted from day to day-->Meghalaya\")  \n",
    "fig.update_xaxes(rangeslider_visible=True)"
   ]
  },
  {
   "cell_type": "code",
   "execution_count": null,
   "metadata": {},
   "outputs": [],
   "source": [
    "male = Meghalaya[\"Male(Individuals Vaccinated)\"].sum() \n",
    "female = Meghalaya[\"Female(Individuals Vaccinated)\"].sum()  \n",
    "trans  = Meghalaya[\"Transgender(Individuals Vaccinated)\"].sum()\n",
    "px.pie(names=[\"Male Vaccinated\",\"Female Vaccinated\",\"Trans Gender\"],values=[male,female,trans],title=\"Male and Female Vaccinated ratio for Covid19-->Meghalaya\")"
   ]
  },
  {
   "cell_type": "code",
   "execution_count": null,
   "metadata": {},
   "outputs": [],
   "source": [
    "first = Meghalaya[\"First Dose Administered\"].sum() \n",
    "second = Meghalaya[\"Second Dose Administered\"].sum()\n",
    "px.pie(names=[\"First Dose\",\"Second dose\"],values=[first,second],title =\"First and Second dosage ratio for covid in Meghalaya\")"
   ]
  },
  {
   "cell_type": "markdown",
   "metadata": {},
   "source": [
    "<a id=\"sec20\"></a>\n",
    "<h2 style='border:3px solid DodgerBlue;'><center>Mizoram</center></h2>"
   ]
  },
  {
   "cell_type": "code",
   "execution_count": null,
   "metadata": {},
   "outputs": [],
   "source": [
    "Mizoram = df[df[\"State\"]==\"Mizoram\"]"
   ]
  },
  {
   "cell_type": "code",
   "execution_count": null,
   "metadata": {},
   "outputs": [],
   "source": [
    "fig = px.line(Mizoram,x=\"Updated On\",y=\"Total Individuals Registered\",title=\"Total Number of  are Individuals  are registering from day to day-->Mizoram\")  \n",
    "fig.update_xaxes(rangeslider_visible=True) "
   ]
  },
  {
   "cell_type": "code",
   "execution_count": null,
   "metadata": {},
   "outputs": [],
   "source": [
    "fig = px.line(Mizoram,x=\"Updated On\",y=\"Total Sessions Conducted\",title=\"Total Number of sessions are conducted from day to day-->Mizoram\")  \n",
    "fig.update_xaxes(rangeslider_visible=True)"
   ]
  },
  {
   "cell_type": "code",
   "execution_count": null,
   "metadata": {},
   "outputs": [],
   "source": [
    "male = Mizoram[\"Male(Individuals Vaccinated)\"].sum() \n",
    "female = Mizoram[\"Female(Individuals Vaccinated)\"].sum()  \n",
    "trans  = Mizoram[\"Transgender(Individuals Vaccinated)\"].sum()\n",
    "px.pie(names=[\"Male Vaccinated\",\"Female Vaccinated\",\"Trans Gender\"],values=[male,female,trans],title=\"Male and Female Vaccinated ratio for Covid19-->Mizoram\")"
   ]
  },
  {
   "cell_type": "code",
   "execution_count": null,
   "metadata": {},
   "outputs": [],
   "source": [
    "first = Mizoram[\"First Dose Administered\"].sum() \n",
    "second = Mizoram[\"Second Dose Administered\"].sum()\n",
    "px.pie(names=[\"First Dose\",\"Second dose\"],values=[first,second],title =\"First and Second dosage ratio for covid in Mizoram\")"
   ]
  },
  {
   "cell_type": "markdown",
   "metadata": {},
   "source": [
    "<a id=\"sec21\"></a>\n",
    "<h2 style='border:3px solid DodgerBlue;'><center>Nagaland</center></h2>"
   ]
  },
  {
   "cell_type": "code",
   "execution_count": null,
   "metadata": {},
   "outputs": [],
   "source": [
    "Nagaland = df[df[\"State\"]==\"Nagaland\"]"
   ]
  },
  {
   "cell_type": "code",
   "execution_count": null,
   "metadata": {},
   "outputs": [],
   "source": [
    "fig = px.line(Nagaland,x=\"Updated On\",y=\"Total Individuals Registered\",title=\"Total Number of  are Individuals  are registering from day to day-->Nagaland\")  \n",
    "fig.update_xaxes(rangeslider_visible=True) "
   ]
  },
  {
   "cell_type": "code",
   "execution_count": null,
   "metadata": {},
   "outputs": [],
   "source": [
    "fig = px.line(Nagaland,x=\"Updated On\",y=\"Total Sessions Conducted\",title=\"Total Number of sessions are conducted from day to day-->Nagaland\")  \n",
    "fig.update_xaxes(rangeslider_visible=True)"
   ]
  },
  {
   "cell_type": "code",
   "execution_count": null,
   "metadata": {},
   "outputs": [],
   "source": [
    "male = Nagaland[\"Male(Individuals Vaccinated)\"].sum() \n",
    "female = Nagaland[\"Female(Individuals Vaccinated)\"].sum()  \n",
    "trans  = Nagaland[\"Transgender(Individuals Vaccinated)\"].sum()\n",
    "px.pie(names=[\"Male Vaccinated\",\"Female Vaccinated\",\"Trans Gender\"],values=[male,female,trans],title=\"Male and Female Vaccinated ratio for Covid19-->Nagaland\")"
   ]
  },
  {
   "cell_type": "code",
   "execution_count": null,
   "metadata": {},
   "outputs": [],
   "source": [
    "first = Nagaland[\"First Dose Administered\"].sum() \n",
    "second = Nagaland[\"Second Dose Administered\"].sum()\n",
    "px.pie(names=[\"First Dose\",\"Second dose\"],values=[first,second],title =\"First and Second dosage ratio for covid in Nagaland\")"
   ]
  },
  {
   "cell_type": "markdown",
   "metadata": {},
   "source": [
    "<a id=\"sec22\"></a>\n",
    "<h2 style='border:3px solid DodgerBlue;'><center>Odisha</center></h2>"
   ]
  },
  {
   "cell_type": "code",
   "execution_count": null,
   "metadata": {},
   "outputs": [],
   "source": [
    "Odisha = df[df[\"State\"]==\"Odisha\"]"
   ]
  },
  {
   "cell_type": "code",
   "execution_count": null,
   "metadata": {},
   "outputs": [],
   "source": [
    "fig = px.line(Odisha,x=\"Updated On\",y=\"Total Individuals Registered\",title=\"Total Number of  are Individuals  are registering from day to day-->Odisha\")  \n",
    "fig.update_xaxes(rangeslider_visible=True) "
   ]
  },
  {
   "cell_type": "code",
   "execution_count": null,
   "metadata": {},
   "outputs": [],
   "source": [
    "fig = px.line(Odisha,x=\"Updated On\",y=\"Total Sessions Conducted\",title=\"Total Number of sessions are conducted from day to day-->Odisha\")  \n",
    "fig.update_xaxes(rangeslider_visible=True)"
   ]
  },
  {
   "cell_type": "code",
   "execution_count": null,
   "metadata": {},
   "outputs": [],
   "source": [
    "male = Odisha[\"Male(Individuals Vaccinated)\"].sum() \n",
    "female = Odisha[\"Female(Individuals Vaccinated)\"].sum()  \n",
    "trans  = Odisha[\"Transgender(Individuals Vaccinated)\"].sum()\n",
    "px.pie(names=[\"Male Vaccinated\",\"Female Vaccinated\",\"Trans Gender\"],values=[male,female,trans],title=\"Male and Female Vaccinated ratio for Covid19-->Odisha\")"
   ]
  },
  {
   "cell_type": "code",
   "execution_count": null,
   "metadata": {},
   "outputs": [],
   "source": [
    "first = Odisha[\"First Dose Administered\"].sum() \n",
    "second = Odisha[\"Second Dose Administered\"].sum()\n",
    "px.pie(names=[\"First Dose\",\"Second dose\"],values=[first,second],title =\"First and Second dosage ratio for covid in Odisha\")"
   ]
  },
  {
   "cell_type": "markdown",
   "metadata": {},
   "source": [
    "<a id=\"sec23\"></a>\n",
    "<h2 style='border:3px solid DodgerBlue;'><center>Punjab</center></h2>"
   ]
  },
  {
   "cell_type": "code",
   "execution_count": null,
   "metadata": {},
   "outputs": [],
   "source": [
    "Punjab = df[df[\"State\"]==\"Punjab\"]"
   ]
  },
  {
   "cell_type": "code",
   "execution_count": null,
   "metadata": {},
   "outputs": [],
   "source": [
    "fig = px.line(Punjab,x=\"Updated On\",y=\"Total Individuals Registered\",title=\"Total Number of  are Individuals  are registering from day to day-->Punjab\")  \n",
    "fig.update_xaxes(rangeslider_visible=True) "
   ]
  },
  {
   "cell_type": "code",
   "execution_count": null,
   "metadata": {},
   "outputs": [],
   "source": [
    "fig = px.line(Punjab,x=\"Updated On\",y=\"Total Sessions Conducted\",title=\"Total Number of sessions are conducted from day to day-->Punjab\")  \n",
    "fig.update_xaxes(rangeslider_visible=True)"
   ]
  },
  {
   "cell_type": "code",
   "execution_count": null,
   "metadata": {},
   "outputs": [],
   "source": [
    "male = Punjab[\"Male(Individuals Vaccinated)\"].sum() \n",
    "female = Punjab[\"Female(Individuals Vaccinated)\"].sum()  \n",
    "trans  = Punjab[\"Transgender(Individuals Vaccinated)\"].sum()\n",
    "px.pie(names=[\"Male Vaccinated\",\"Female Vaccinated\",\"Trans Gender\"],values=[male,female,trans],title=\"Male and Female Vaccinated ratio for Covid19-->Punjab\")"
   ]
  },
  {
   "cell_type": "code",
   "execution_count": null,
   "metadata": {},
   "outputs": [],
   "source": [
    "first = Punjab[\"First Dose Administered\"].sum() \n",
    "second = Punjab[\"Second Dose Administered\"].sum()\n",
    "px.pie(names=[\"First Dose\",\"Second dose\"],values=[first,second],title =\"First and Second dosage ratio for covid in Punjab\")"
   ]
  },
  {
   "cell_type": "markdown",
   "metadata": {},
   "source": [
    "<a id=\"sec24\"></a>\n",
    "<h2 style='border:3px solid DodgerBlue;'><center>Rajasthan</center></h2>"
   ]
  },
  {
   "cell_type": "code",
   "execution_count": null,
   "metadata": {},
   "outputs": [],
   "source": [
    "Rajasthan = df[df[\"State\"]==\"Rajasthan\"]"
   ]
  },
  {
   "cell_type": "code",
   "execution_count": null,
   "metadata": {},
   "outputs": [],
   "source": [
    "fig = px.line(Rajasthan,x=\"Updated On\",y=\"Total Individuals Registered\",title=\"Total Number of  are Individuals  are registering from day to day-->Rajasthan\")  \n",
    "fig.update_xaxes(rangeslider_visible=True) "
   ]
  },
  {
   "cell_type": "code",
   "execution_count": null,
   "metadata": {},
   "outputs": [],
   "source": [
    "fig = px.line(Rajasthan,x=\"Updated On\",y=\"Total Sessions Conducted\",title=\"Total Number of sessions are conducted from day to day-->Rajasthan\")  \n",
    "fig.update_xaxes(rangeslider_visible=True)"
   ]
  },
  {
   "cell_type": "code",
   "execution_count": null,
   "metadata": {},
   "outputs": [],
   "source": [
    "male = Rajasthan[\"Male(Individuals Vaccinated)\"].sum() \n",
    "female = Rajasthan[\"Female(Individuals Vaccinated)\"].sum()  \n",
    "trans  = Rajasthan[\"Transgender(Individuals Vaccinated)\"].sum()\n",
    "px.pie(names=[\"Male Vaccinated\",\"Female Vaccinated\",\"Trans Gender\"],values=[male,female,trans],title=\"Male and Female Vaccinated ratio for Covid19-->Rajasthan\")"
   ]
  },
  {
   "cell_type": "code",
   "execution_count": null,
   "metadata": {},
   "outputs": [],
   "source": [
    "first = Rajasthan[\"First Dose Administered\"].sum() \n",
    "second = Rajasthan[\"Second Dose Administered\"].sum()\n",
    "px.pie(names=[\"First Dose\",\"Second dose\"],values=[first,second],title =\"First and Second dosage ratio for covid in Rajasthan\")"
   ]
  },
  {
   "cell_type": "markdown",
   "metadata": {},
   "source": [
    "<a id=\"sec25\"></a>\n",
    "<h2 style='border:3px solid DodgerBlue;'><center>Sikkim</center></h2>"
   ]
  },
  {
   "cell_type": "code",
   "execution_count": null,
   "metadata": {},
   "outputs": [],
   "source": [
    "Sikkim = df[df[\"State\"]==\"Sikkim\"]"
   ]
  },
  {
   "cell_type": "code",
   "execution_count": null,
   "metadata": {},
   "outputs": [],
   "source": [
    "fig = px.line(Sikkim,x=\"Updated On\",y=\"Total Individuals Registered\",title=\"Total Number of  are Individuals  are registering from day to day-->Sikkim\")  \n",
    "fig.update_xaxes(rangeslider_visible=True)"
   ]
  },
  {
   "cell_type": "code",
   "execution_count": null,
   "metadata": {},
   "outputs": [],
   "source": [
    "fig = px.line(Sikkim,x=\"Updated On\",y=\"Total Sessions Conducted\",title=\"Total Number of sessions are conducted from day to day-->Sikkim\")  \n",
    "fig.update_xaxes(rangeslider_visible=True)"
   ]
  },
  {
   "cell_type": "code",
   "execution_count": null,
   "metadata": {},
   "outputs": [],
   "source": [
    "male = Sikkim[\"Male(Individuals Vaccinated)\"].sum() \n",
    "female = Sikkim[\"Female(Individuals Vaccinated)\"].sum()  \n",
    "trans  = Sikkim[\"Transgender(Individuals Vaccinated)\"].sum()\n",
    "px.pie(names=[\"Male Vaccinated\",\"Female Vaccinated\",\"Trans Gender\"],values=[male,female,trans],title=\"Male and Female Vaccinated ratio for Covid19-->Sikkim\")"
   ]
  },
  {
   "cell_type": "code",
   "execution_count": null,
   "metadata": {},
   "outputs": [],
   "source": [
    "first = Sikkim[\"First Dose Administered\"].sum() \n",
    "second = Sikkim[\"Second Dose Administered\"].sum()\n",
    "px.pie(names=[\"First Dose\",\"Second dose\"],values=[first,second],title =\"First and Second dosage ratio for covid in Sikkim\")"
   ]
  },
  {
   "cell_type": "markdown",
   "metadata": {},
   "source": [
    "<a id=\"sec26\"></a>\n",
    "<h2 style='border:3px solid DodgerBlue;'><center>Tamil Nadu</center></h2>"
   ]
  },
  {
   "cell_type": "code",
   "execution_count": null,
   "metadata": {},
   "outputs": [],
   "source": [
    "Tamil_Nadu = df[df[\"State\"]==\"Tamil Nadu\"]"
   ]
  },
  {
   "cell_type": "code",
   "execution_count": null,
   "metadata": {},
   "outputs": [],
   "source": [
    "fig = px.line(Tamil_Nadu,x=\"Updated On\",y=\"Total Individuals Registered\",title=\"Total Number of  are Individuals  are registering from day to day-->Tamil_Nadu\")  \n",
    "fig.update_xaxes(rangeslider_visible=True)"
   ]
  },
  {
   "cell_type": "code",
   "execution_count": null,
   "metadata": {},
   "outputs": [],
   "source": [
    "fig = px.line(Tamil_Nadu,x=\"Updated On\",y=\"Total Sessions Conducted\",title=\"Total Number of sessions are conducted from day to day-->Tamil_nadu\")  \n",
    "fig.update_xaxes(rangeslider_visible=True)"
   ]
  },
  {
   "cell_type": "code",
   "execution_count": null,
   "metadata": {},
   "outputs": [],
   "source": [
    "male = Tamil_Nadu[\"Male(Individuals Vaccinated)\"].sum() \n",
    "female = Tamil_Nadu[\"Female(Individuals Vaccinated)\"].sum()  \n",
    "trans  = Tamil_Nadu[\"Transgender(Individuals Vaccinated)\"].sum()\n",
    "px.pie(names=[\"Male Vaccinated\",\"Female Vaccinated\",\"Trans Gender\"],values=[male,female,trans],title=\"Male and Female Vaccinated ratio for Covid19-->Tamil_Nadu\")"
   ]
  },
  {
   "cell_type": "code",
   "execution_count": null,
   "metadata": {},
   "outputs": [],
   "source": [
    "first = Tamil_Nadu[\"First Dose Administered\"].sum() \n",
    "second = Tamil_Nadu[\"Second Dose Administered\"].sum()\n",
    "px.pie(names=[\"First Dose\",\"Second dose\"],values=[first,second],title =\"First and Second dosage ratio for covid in Tamil_Nadu\")"
   ]
  },
  {
   "cell_type": "markdown",
   "metadata": {},
   "source": [
    "<a id=\"sec27\"></a>\n",
    "<h2 style='border:3px solid DodgerBlue;'><center>Telangana</center></h2>"
   ]
  },
  {
   "cell_type": "code",
   "execution_count": null,
   "metadata": {},
   "outputs": [],
   "source": [
    "Telangana  = df[df[\"State\"]==\"Telangana\"]"
   ]
  },
  {
   "cell_type": "code",
   "execution_count": null,
   "metadata": {},
   "outputs": [],
   "source": [
    "fig = px.line(Telangana,x=\"Updated On\",y=\"Total Individuals Registered\",title=\"Total Number of  are Individuals  are registering from day to day-->Telangana\")  \n",
    "fig.update_xaxes(rangeslider_visible=True)"
   ]
  },
  {
   "cell_type": "code",
   "execution_count": null,
   "metadata": {},
   "outputs": [],
   "source": [
    "fig = px.line(Telangana,x=\"Updated On\",y=\"Total Sessions Conducted\",title=\"Total Number of sessions are conducted from day to day-->Telangana\")  \n",
    "fig.update_xaxes(rangeslider_visible=True)"
   ]
  },
  {
   "cell_type": "code",
   "execution_count": null,
   "metadata": {},
   "outputs": [],
   "source": [
    "male = Telangana[\"Male(Individuals Vaccinated)\"].sum() \n",
    "female = Telangana[\"Female(Individuals Vaccinated)\"].sum()  \n",
    "trans  = Telangana[\"Transgender(Individuals Vaccinated)\"].sum()\n",
    "px.pie(names=[\"Male Vaccinated\",\"Female Vaccinated\",\"Trans Gender\"],values=[male,female,trans],title=\"Male and Female Vaccinated ratio for Covid19-->Telangana\")"
   ]
  },
  {
   "cell_type": "code",
   "execution_count": null,
   "metadata": {},
   "outputs": [],
   "source": [
    "first = Telangana[\"First Dose Administered\"].sum() \n",
    "second = Telangana[\"Second Dose Administered\"].sum()\n",
    "px.pie(names=[\"First Dose\",\"Second dose\"],values=[first,second],title =\"First and Second dosage ratio for covid in Telangana\")"
   ]
  },
  {
   "cell_type": "markdown",
   "metadata": {},
   "source": [
    "<a id=\"sec28\"></a>\n",
    "<h2 style='border:3px solid DodgerBlue;'><center>Tripura</center></h2>"
   ]
  },
  {
   "cell_type": "code",
   "execution_count": null,
   "metadata": {},
   "outputs": [],
   "source": [
    "Tripura = df[df[\"State\"]==\"Tripura\"]"
   ]
  },
  {
   "cell_type": "code",
   "execution_count": null,
   "metadata": {},
   "outputs": [],
   "source": [
    "fig = px.line(Tripura,x=\"Updated On\",y=\"Total Individuals Registered\",title=\"Total Number of  are Individuals  are registering from day to day-->Tripura\")  \n",
    "fig.update_xaxes(rangeslider_visible=True)"
   ]
  },
  {
   "cell_type": "code",
   "execution_count": null,
   "metadata": {},
   "outputs": [],
   "source": [
    "fig = px.line(Tripura,x=\"Updated On\",y=\"Total Sessions Conducted\",title=\"Total Number of sessions are conducted from day to day-->Tripura\")  \n",
    "fig.update_xaxes(rangeslider_visible=True)"
   ]
  },
  {
   "cell_type": "code",
   "execution_count": null,
   "metadata": {},
   "outputs": [],
   "source": [
    "male = Tripura[\"Male(Individuals Vaccinated)\"].sum() \n",
    "female = Tripura[\"Female(Individuals Vaccinated)\"].sum()  \n",
    "trans  = Tripura[\"Transgender(Individuals Vaccinated)\"].sum()\n",
    "px.pie(names=[\"Male Vaccinated\",\"Female Vaccinated\",\"Trans Gender\"],values=[male,female,trans],title=\"Male and Female Vaccinated ratio for Covid19-->Tripura\")"
   ]
  },
  {
   "cell_type": "code",
   "execution_count": null,
   "metadata": {},
   "outputs": [],
   "source": [
    "first = Tripura[\"First Dose Administered\"].sum() \n",
    "second = Tripura[\"Second Dose Administered\"].sum()\n",
    "px.pie(names=[\"First Dose\",\"Second dose\"],values=[first,second],title =\"First and Second dosage ratio for covid in Tripura\")"
   ]
  },
  {
   "cell_type": "markdown",
   "metadata": {},
   "source": [
    "<a id=\"sec29\"></a>\n",
    "<h2 style='border:3px solid DodgerBlue;'><center>Uttar Pradesh</center></h2>"
   ]
  },
  {
   "cell_type": "code",
   "execution_count": null,
   "metadata": {},
   "outputs": [],
   "source": [
    "Uttar_Pradesh = df[df[\"State\"]==\"Uttar Pradesh\"]"
   ]
  },
  {
   "cell_type": "code",
   "execution_count": null,
   "metadata": {},
   "outputs": [],
   "source": [
    "fig = px.line(Uttar_Pradesh,x=\"Updated On\",y=\"Total Individuals Registered\",title=\"Total Number of  are Individuals  are registering from day to day-->Uttar_Pradesh\")  \n",
    "fig.update_xaxes(rangeslider_visible=True)"
   ]
  },
  {
   "cell_type": "code",
   "execution_count": null,
   "metadata": {},
   "outputs": [],
   "source": [
    "fig = px.line(Uttar_Pradesh,x=\"Updated On\",y=\"Total Sessions Conducted\",title=\"Total Number of sessions are conducted from day to day-->Uttar_Pradesh\")  \n",
    "fig.update_xaxes(rangeslider_visible=True)"
   ]
  },
  {
   "cell_type": "code",
   "execution_count": null,
   "metadata": {},
   "outputs": [],
   "source": [
    "male = Uttar_Pradesh[\"Male(Individuals Vaccinated)\"].sum() \n",
    "female = Uttar_Pradesh[\"Female(Individuals Vaccinated)\"].sum()  \n",
    "trans  = Uttar_Pradesh[\"Transgender(Individuals Vaccinated)\"].sum()\n",
    "px.pie(names=[\"Male Vaccinated\",\"Female Vaccinated\",\"Trans Gender\"],values=[male,female,trans],title=\"Male and Female Vaccinated ratio for Covid19-->Uttar_Pradesh\")"
   ]
  },
  {
   "cell_type": "code",
   "execution_count": null,
   "metadata": {},
   "outputs": [],
   "source": [
    "first = Uttar_Pradesh[\"First Dose Administered\"].sum() \n",
    "second = Uttar_Pradesh[\"Second Dose Administered\"].sum()\n",
    "px.pie(names=[\"First Dose\",\"Second dose\"],values=[first,second],title =\"First and Second dosage ratio for covid in Uttar_Pradesh\")"
   ]
  },
  {
   "cell_type": "markdown",
   "metadata": {},
   "source": [
    "<a id=\"sec1\"></a>\n",
    "<h2 style='border:3px solid DodgerBlue;'><center>UttaraKhand</center></h2>"
   ]
  },
  {
   "cell_type": "code",
   "execution_count": null,
   "metadata": {},
   "outputs": [],
   "source": [
    "Uttarakhand = df[df[\"State\"]==\"Uttarakhand\"]"
   ]
  },
  {
   "cell_type": "code",
   "execution_count": null,
   "metadata": {},
   "outputs": [],
   "source": [
    "fig = px.line(Uttarakhand,x=\"Updated On\",y=\"Total Individuals Registered\",title=\"Total Number of  are Individuals  are registering from day to day-->Uttarakhand\")  \n",
    "fig.update_xaxes(rangeslider_visible=True)"
   ]
  },
  {
   "cell_type": "code",
   "execution_count": null,
   "metadata": {},
   "outputs": [],
   "source": [
    "fig = px.line(Uttarakhand,x=\"Updated On\",y=\"Total Sessions Conducted\",title=\"Total Number of sessions are conducted from day to day-->Uttarakhand\")  \n",
    "fig.update_xaxes(rangeslider_visible=True)"
   ]
  },
  {
   "cell_type": "code",
   "execution_count": null,
   "metadata": {},
   "outputs": [],
   "source": [
    "male = Uttarakhand[\"Male(Individuals Vaccinated)\"].sum() \n",
    "female = Uttarakhand[\"Female(Individuals Vaccinated)\"].sum()  \n",
    "trans  = Uttarakhand[\"Transgender(Individuals Vaccinated)\"].sum()\n",
    "px.pie(names=[\"Male Vaccinated\",\"Female Vaccinated\",\"Trans Gender\"],values=[male,female,trans],title=\"Male and Female Vaccinated ratio for Covid19-->Uttarakhand\")"
   ]
  },
  {
   "cell_type": "code",
   "execution_count": null,
   "metadata": {},
   "outputs": [],
   "source": [
    "first = Uttarakhand[\"First Dose Administered\"].sum() \n",
    "second = Uttarakhand[\"Second Dose Administered\"].sum()\n",
    "px.pie(names=[\"First Dose\",\"Second dose\"],values=[first,second],title =\"First and Second dosage ratio for covid in Uttarakhand\")"
   ]
  },
  {
   "cell_type": "markdown",
   "metadata": {},
   "source": [
    "<a id=\"sec31\"></a>\n",
    "<h2 style='border:3px solid DodgerBlue;'><center>West Bengal</center></h2>"
   ]
  },
  {
   "cell_type": "code",
   "execution_count": null,
   "metadata": {},
   "outputs": [],
   "source": [
    "West_Bengal = df[df[\"State\"]==\"West Bengal\"]"
   ]
  },
  {
   "cell_type": "code",
   "execution_count": null,
   "metadata": {},
   "outputs": [],
   "source": [
    "fig = px.line(West_Bengal,x=\"Updated On\",y=\"Total Individuals Registered\",title=\"Total Number of  are Individuals  are registering from day to day-->West_Bengal\")  \n",
    "fig.update_xaxes(rangeslider_visible=True)"
   ]
  },
  {
   "cell_type": "code",
   "execution_count": null,
   "metadata": {},
   "outputs": [],
   "source": [
    "fig = px.line(West_Bengal,x=\"Updated On\",y=\"Total Sessions Conducted\",title=\"Total Number of sessions are conducted from day to day-->West_Bengal\")  \n",
    "fig.update_xaxes(rangeslider_visible=True)"
   ]
  },
  {
   "cell_type": "code",
   "execution_count": null,
   "metadata": {},
   "outputs": [],
   "source": [
    "male = West_Bengal[\"Male(Individuals Vaccinated)\"].sum() \n",
    "female = West_Bengal[\"Female(Individuals Vaccinated)\"].sum()  \n",
    "trans  = West_Bengal[\"Transgender(Individuals Vaccinated)\"].sum()\n",
    "px.pie(names=[\"Male Vaccinated\",\"Female Vaccinated\",\"Trans Gender\"],values=[male,female,trans],title=\"Male and Female Vaccinated ratio for Covid19-->West_Bengal\")"
   ]
  },
  {
   "cell_type": "code",
   "execution_count": null,
   "metadata": {},
   "outputs": [],
   "source": [
    "first = West_Bengal[\"First Dose Administered\"].sum() \n",
    "second = West_Bengal[\"Second Dose Administered\"].sum()\n",
    "px.pie(names=[\"First Dose\",\"Second dose\"],values=[first,second],title =\"First and Second dosage ratio for covid in West_Bengal\")"
   ]
  },
  {
   "cell_type": "code",
   "execution_count": null,
   "metadata": {},
   "outputs": [],
   "source": []
  }
 ],
 "metadata": {
  "kernelspec": {
   "display_name": "Python 3",
   "language": "python",
   "name": "python3"
  },
  "language_info": {
   "codemirror_mode": {
    "name": "ipython",
    "version": 3
   },
   "file_extension": ".py",
   "mimetype": "text/x-python",
   "name": "python",
   "nbconvert_exporter": "python",
   "pygments_lexer": "ipython3",
   "version": "3.8.5"
  }
 },
 "nbformat": 4,
 "nbformat_minor": 4
}
