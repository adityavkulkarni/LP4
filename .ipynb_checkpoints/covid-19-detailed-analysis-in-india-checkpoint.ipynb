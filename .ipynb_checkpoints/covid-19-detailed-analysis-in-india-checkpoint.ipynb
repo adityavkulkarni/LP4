{
 "cells": [
  {
   "cell_type": "code",
   "execution_count": null,
   "metadata": {
    "_cell_guid": "b1076dfc-b9ad-4769-8c92-a6c4dae69d19",
    "_uuid": "8f2839f25d086af736a60e9eeb907d3b93b6e0e5"
   },
   "outputs": [],
   "source": [
    "import pandas as pd\n",
    "import plotly.express as px\n",
    "import plotly.figure_factory as ff\n",
    "from matplotlib import pyplot as plt"
   ]
  },
  {
   "cell_type": "code",
   "execution_count": null,
   "metadata": {},
   "outputs": [],
   "source": [
    "covid_india = pd.read_csv(\"../input/covid19-in-india/covid_19_india.csv\")\n",
    "covid_india.head()"
   ]
  },
  {
   "cell_type": "code",
   "execution_count": null,
   "metadata": {},
   "outputs": [],
   "source": [
    "df_vaccine_statewise = pd.read_csv(\"../input/covid19-in-india/covid_vaccine_statewise.csv\")\n",
    "df_vaccine_statewise.head()"
   ]
  },
  {
   "cell_type": "code",
   "execution_count": null,
   "metadata": {},
   "outputs": [],
   "source": [
    "deaths = covid_india.groupby(\"State/UnionTerritory\")[\"Deaths\"].sum().reset_index()"
   ]
  },
  {
   "cell_type": "code",
   "execution_count": null,
   "metadata": {},
   "outputs": [],
   "source": [
    "deaths.head()"
   ]
  },
  {
   "cell_type": "markdown",
   "metadata": {},
   "source": [
    "<h3>Top 10 States which are getting affected by the number of Deaths</h3>"
   ]
  },
  {
   "cell_type": "code",
   "execution_count": null,
   "metadata": {},
   "outputs": [],
   "source": [
    "x1 = deaths.nlargest(10,\"Deaths\")[\"State/UnionTerritory\"]\n",
    "y1 = deaths.nlargest(10,\"Deaths\")[\"Deaths\"]"
   ]
  },
  {
   "cell_type": "code",
   "execution_count": null,
   "metadata": {},
   "outputs": [],
   "source": [
    "fig = px.bar(x=x1,y=y1,color_discrete_sequence=px.colors.qualitative.Dark2,title=\"Top 10 states which are affecting from deaths\")\n",
    "\n",
    "fig.update_yaxes(title_text='Number of Deaths')\n",
    "fig.update_xaxes(title_text='Top 10 states')\n",
    "\n",
    "fig.show()"
   ]
  },
  {
   "cell_type": "code",
   "execution_count": null,
   "metadata": {},
   "outputs": [],
   "source": [
    "px.treemap(deaths,path=[\"State/UnionTerritory\"],values=\"Deaths\",title=\"Overall States Comparision of deaths\")"
   ]
  },
  {
   "cell_type": "code",
   "execution_count": null,
   "metadata": {},
   "outputs": [],
   "source": [
    "covid_india.dtypes"
   ]
  },
  {
   "cell_type": "code",
   "execution_count": null,
   "metadata": {},
   "outputs": [],
   "source": [
    "df_vaccine_statewise.dtypes"
   ]
  },
  {
   "cell_type": "markdown",
   "metadata": {},
   "source": [
    "<h3>Total Individuals Registered Visualization</h3>"
   ]
  },
  {
   "cell_type": "code",
   "execution_count": null,
   "metadata": {},
   "outputs": [],
   "source": [
    "mask = (df_vaccine_statewise[\"State\"]==\"India\")\n",
    "x3 = df_vaccine_statewise[mask][\"Updated On\"]"
   ]
  },
  {
   "cell_type": "code",
   "execution_count": null,
   "metadata": {},
   "outputs": [],
   "source": [
    "y3 = df_vaccine_statewise[mask][\"Total Individuals Registered\"]"
   ]
  },
  {
   "cell_type": "code",
   "execution_count": null,
   "metadata": {},
   "outputs": [],
   "source": [
    "fig = px.line(x = x3, y = y3,color_discrete_sequence=px.colors.qualitative.Dark2,\n",
    "       title=\"Total Individuals Registering for vaccines\")\n",
    "\n",
    "fig.update_xaxes(title_text=\"Dates\")\n",
    "fig.update_yaxes(title_text=\"Number of Persons Registered\")\n",
    "\n",
    "fig.show()"
   ]
  },
  {
   "cell_type": "markdown",
   "metadata": {},
   "source": [
    "<h3>Total Sites Visualization</h3>"
   ]
  },
  {
   "cell_type": "code",
   "execution_count": null,
   "metadata": {},
   "outputs": [],
   "source": [
    "y5 = df_vaccine_statewise[mask][\"First Dose Administered\"]\n",
    "y6 = df_vaccine_statewise[mask][\"Second Dose Administered\"]"
   ]
  },
  {
   "cell_type": "code",
   "execution_count": null,
   "metadata": {},
   "outputs": [],
   "source": [
    "fig = px.line(x = x3, y = [y5,y6],color_discrete_sequence=px.colors.qualitative.Dark2,\n",
    "       title=\"First Dose and Second Dose Administered Comparison all over India\")\n",
    "\n",
    "fig.update_xaxes(title_text=\"Dates\")\n",
    "fig.update_yaxes(title_text=\"No of persons given vaccines\")"
   ]
  },
  {
   "cell_type": "markdown",
   "metadata": {},
   "source": []
  },
  {
   "cell_type": "markdown",
   "metadata": {},
   "source": [
    "<h3>Gender wise Vaccination Trends</h3>"
   ]
  },
  {
   "cell_type": "code",
   "execution_count": null,
   "metadata": {},
   "outputs": [],
   "source": [
    "y7 = df_vaccine_statewise[mask][\"Male(Individuals Vaccinated)\"]\n",
    "y8 = df_vaccine_statewise[mask][\"Female(Individuals Vaccinated)\"]\n",
    "y9 = df_vaccine_statewise[mask][\"Transgender(Individuals Vaccinated)\"]"
   ]
  },
  {
   "cell_type": "code",
   "execution_count": null,
   "metadata": {},
   "outputs": [],
   "source": [
    "px.line(x = x3, y = [y7,y8,y9],color_discrete_sequence=px.colors.qualitative.Dark2,\n",
    "       title=\"Male vs Female vaccinated in India\")"
   ]
  },
  {
   "cell_type": "markdown",
   "metadata": {},
   "source": [
    "<h3>Covaxin vs Covidshield administer</h3>"
   ]
  },
  {
   "cell_type": "code",
   "execution_count": null,
   "metadata": {},
   "outputs": [],
   "source": [
    "y10 = df_vaccine_statewise[mask][\"Total Covaxin Administered\"]\n",
    "y11 = df_vaccine_statewise[mask][\"Total CoviShield Administered\"]"
   ]
  },
  {
   "cell_type": "code",
   "execution_count": null,
   "metadata": {},
   "outputs": [],
   "source": [
    "px.line(x = x3, y = [y10,y11],color_discrete_sequence=px.colors.qualitative.Dark2,\n",
    "       title=\"Male vs Female vaccinated in India\")"
   ]
  }
 ],
 "metadata": {
  "kernelspec": {
   "display_name": "Python 3",
   "language": "python",
   "name": "python3"
  },
  "language_info": {
   "codemirror_mode": {
    "name": "ipython",
    "version": 3
   },
   "file_extension": ".py",
   "mimetype": "text/x-python",
   "name": "python",
   "nbconvert_exporter": "python",
   "pygments_lexer": "ipython3",
   "version": "3.8.5"
  }
 },
 "nbformat": 4,
 "nbformat_minor": 4
}
